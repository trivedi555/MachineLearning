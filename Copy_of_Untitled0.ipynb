{
  "nbformat": 4,
  "nbformat_minor": 0,
  "metadata": {
    "colab": {
      "name": "Copy of Untitled0.ipynb",
      "provenance": [],
      "authorship_tag": "ABX9TyNR36GNdpXpRJ2++GqUyCGE",
      "include_colab_link": true
    },
    "kernelspec": {
      "name": "python3",
      "display_name": "Python 3"
    }
  },
  "cells": [
    {
      "cell_type": "markdown",
      "metadata": {
        "id": "view-in-github",
        "colab_type": "text"
      },
      "source": [
        "<a href=\"https://colab.research.google.com/github/trivedi555/MachineLearning/blob/main/Copy_of_Untitled0.ipynb\" target=\"_parent\"><img src=\"https://colab.research.google.com/assets/colab-badge.svg\" alt=\"Open In Colab\"/></a>"
      ]
    },
    {
      "cell_type": "code",
      "metadata": {
        "id": "WV7p1bL7fU6S"
      },
      "source": [
        "import numpy as np\r\n"
      ],
      "execution_count": null,
      "outputs": []
    },
    {
      "cell_type": "code",
      "metadata": {
        "id": "E3bvexddgLOU"
      },
      "source": [
        "import pandas as pd"
      ],
      "execution_count": null,
      "outputs": []
    },
    {
      "cell_type": "code",
      "metadata": {
        "id": "aVB0KyQLf0le"
      },
      "source": [
        "# This will take some time to execute. Have some patience.\r\n",
        "\r\n",
        "url = 'https://drive.google.com/file/d/1QcKzIJlO6WRUH4IkrKAvDmBVEipXkeQb/view?usp=sharing'\r\n",
        "\r\n",
        "path = 'https://drive.google.com/uc?export=download&id='+url.split('/')[-2]\r\n",
        "\r\n",
        "data = pd.read_csv(path)"
      ],
      "execution_count": null,
      "outputs": []
    },
    {
      "cell_type": "code",
      "metadata": {
        "colab": {
          "base_uri": "https://localhost:8080/"
        },
        "id": "Icb-YHe_gYBe",
        "outputId": "9f016e94-81fc-4853-afc5-c2cf2f1b478d"
      },
      "source": [
        "data.info()"
      ],
      "execution_count": null,
      "outputs": [
        {
          "output_type": "stream",
          "text": [
            "<class 'pandas.core.frame.DataFrame'>\n",
            "RangeIndex: 1243241 entries, 0 to 1243240\n",
            "Data columns (total 7 columns):\n",
            " #   Column                 Non-Null Count    Dtype  \n",
            "---  ------                 --------------    -----  \n",
            " 0   VendorID               1227632 non-null  float64\n",
            " 1   tpep_pickup_datetime   1243241 non-null  object \n",
            " 2   tpep_dropoff_datetime  1243241 non-null  object \n",
            " 3   passenger_count        1227632 non-null  float64\n",
            " 4   PULocationID           1243241 non-null  int64  \n",
            " 5   DOLocationID           1243241 non-null  int64  \n",
            " 6   fare_amount            1243241 non-null  float64\n",
            "dtypes: float64(3), int64(2), object(2)\n",
            "memory usage: 66.4+ MB\n"
          ],
          "name": "stdout"
        }
      ]
    },
    {
      "cell_type": "code",
      "metadata": {
        "id": "sc3MMffZgne1"
      },
      "source": [
        "\r\n",
        "data.tpep_pickup_datetime = pd.to_datetime(data.tpep_pickup_datetime)\r\n",
        "data.tpep_pickup_datetime = pd.DatetimeIndex(data.tpep_pickup_datetime)"
      ],
      "execution_count": null,
      "outputs": []
    },
    {
      "cell_type": "code",
      "metadata": {
        "id": "W7RvYybShMTi"
      },
      "source": [
        "data.tpep_dropoff_datetime = pd.to_datetime(data.tpep_dropoff_datetime)\r\n",
        "data.tpep_dropoff_datetime = pd.DatetimeIndex(data.tpep_dropoff_datetime)"
      ],
      "execution_count": null,
      "outputs": []
    },
    {
      "cell_type": "code",
      "metadata": {
        "colab": {
          "base_uri": "https://localhost:8080/"
        },
        "id": "4rE8pzrmhFXN",
        "outputId": "3e0b6ae5-e694-4a72-f8fd-39004942db1d"
      },
      "source": [
        "data.info()"
      ],
      "execution_count": null,
      "outputs": [
        {
          "output_type": "stream",
          "text": [
            "<class 'pandas.core.frame.DataFrame'>\n",
            "RangeIndex: 1243241 entries, 0 to 1243240\n",
            "Data columns (total 7 columns):\n",
            " #   Column                 Non-Null Count    Dtype         \n",
            "---  ------                 --------------    -----         \n",
            " 0   VendorID               1227632 non-null  float64       \n",
            " 1   tpep_pickup_datetime   1243241 non-null  datetime64[ns]\n",
            " 2   tpep_dropoff_datetime  1243241 non-null  datetime64[ns]\n",
            " 3   passenger_count        1227632 non-null  float64       \n",
            " 4   PULocationID           1243241 non-null  int64         \n",
            " 5   DOLocationID           1243241 non-null  int64         \n",
            " 6   fare_amount            1243241 non-null  float64       \n",
            "dtypes: datetime64[ns](2), float64(3), int64(2)\n",
            "memory usage: 66.4 MB\n"
          ],
          "name": "stdout"
        }
      ]
    },
    {
      "cell_type": "code",
      "metadata": {
        "id": "rXXS2UTfhgJ4"
      },
      "source": [
        "data['weekday_pickup'] = data.tpep_pickup_datetime.dt.day_name()\r\n",
        "data['weekday_dropoff'] = data.tpep_dropoff_datetime.dt.day_name()"
      ],
      "execution_count": null,
      "outputs": []
    },
    {
      "cell_type": "code",
      "metadata": {
        "id": "Ji3othtdhsAL"
      },
      "source": [
        "data['day_Pickup'] = data.tpep_pickup_datetime.dt.day\r\n",
        "data['day_dropoff'] = data.tpep_dropoff_datetime.dt.day"
      ],
      "execution_count": null,
      "outputs": []
    },
    {
      "cell_type": "code",
      "metadata": {
        "id": "N7EV4Nskjxl2"
      },
      "source": [
        "data['month_Pickup'] = data.tpep_pickup_datetime.dt.month\r\n",
        "data['month_dropoff'] = data.tpep_dropoff_datetime.dt.month"
      ],
      "execution_count": null,
      "outputs": []
    },
    {
      "cell_type": "code",
      "metadata": {
        "colab": {
          "base_uri": "https://localhost:8080/",
          "height": 224
        },
        "id": "chXYwM8hjHtB",
        "outputId": "b0a16c89-ff3b-49f5-8774-f0d455dd7f60"
      },
      "source": [
        "data.head()"
      ],
      "execution_count": null,
      "outputs": [
        {
          "output_type": "execute_result",
          "data": {
            "text/html": [
              "<div>\n",
              "<style scoped>\n",
              "    .dataframe tbody tr th:only-of-type {\n",
              "        vertical-align: middle;\n",
              "    }\n",
              "\n",
              "    .dataframe tbody tr th {\n",
              "        vertical-align: top;\n",
              "    }\n",
              "\n",
              "    .dataframe thead th {\n",
              "        text-align: right;\n",
              "    }\n",
              "</style>\n",
              "<table border=\"1\" class=\"dataframe\">\n",
              "  <thead>\n",
              "    <tr style=\"text-align: right;\">\n",
              "      <th></th>\n",
              "      <th>VendorID</th>\n",
              "      <th>tpep_pickup_datetime</th>\n",
              "      <th>tpep_dropoff_datetime</th>\n",
              "      <th>passenger_count</th>\n",
              "      <th>PULocationID</th>\n",
              "      <th>DOLocationID</th>\n",
              "      <th>fare_amount</th>\n",
              "      <th>weekday_pickup</th>\n",
              "      <th>weekday_dropoff</th>\n",
              "      <th>day_Pickup</th>\n",
              "      <th>day_dropoff</th>\n",
              "      <th>month_Pickup</th>\n",
              "      <th>month_dropoff</th>\n",
              "    </tr>\n",
              "  </thead>\n",
              "  <tbody>\n",
              "    <tr>\n",
              "      <th>0</th>\n",
              "      <td>1.0</td>\n",
              "      <td>2020-01-01 00:28:15</td>\n",
              "      <td>2020-01-01 00:33:03</td>\n",
              "      <td>1.0</td>\n",
              "      <td>238</td>\n",
              "      <td>239</td>\n",
              "      <td>6.0</td>\n",
              "      <td>Wednesday</td>\n",
              "      <td>Wednesday</td>\n",
              "      <td>1</td>\n",
              "      <td>1</td>\n",
              "      <td>1</td>\n",
              "      <td>1</td>\n",
              "    </tr>\n",
              "    <tr>\n",
              "      <th>1</th>\n",
              "      <td>1.0</td>\n",
              "      <td>2020-01-01 00:35:39</td>\n",
              "      <td>2020-01-01 00:43:04</td>\n",
              "      <td>1.0</td>\n",
              "      <td>239</td>\n",
              "      <td>238</td>\n",
              "      <td>7.0</td>\n",
              "      <td>Wednesday</td>\n",
              "      <td>Wednesday</td>\n",
              "      <td>1</td>\n",
              "      <td>1</td>\n",
              "      <td>1</td>\n",
              "      <td>1</td>\n",
              "    </tr>\n",
              "    <tr>\n",
              "      <th>2</th>\n",
              "      <td>1.0</td>\n",
              "      <td>2020-01-01 00:47:41</td>\n",
              "      <td>2020-01-01 00:53:52</td>\n",
              "      <td>1.0</td>\n",
              "      <td>238</td>\n",
              "      <td>238</td>\n",
              "      <td>6.0</td>\n",
              "      <td>Wednesday</td>\n",
              "      <td>Wednesday</td>\n",
              "      <td>1</td>\n",
              "      <td>1</td>\n",
              "      <td>1</td>\n",
              "      <td>1</td>\n",
              "    </tr>\n",
              "    <tr>\n",
              "      <th>3</th>\n",
              "      <td>1.0</td>\n",
              "      <td>2020-01-01 00:55:23</td>\n",
              "      <td>2020-01-01 01:00:14</td>\n",
              "      <td>1.0</td>\n",
              "      <td>238</td>\n",
              "      <td>151</td>\n",
              "      <td>5.5</td>\n",
              "      <td>Wednesday</td>\n",
              "      <td>Wednesday</td>\n",
              "      <td>1</td>\n",
              "      <td>1</td>\n",
              "      <td>1</td>\n",
              "      <td>1</td>\n",
              "    </tr>\n",
              "    <tr>\n",
              "      <th>4</th>\n",
              "      <td>2.0</td>\n",
              "      <td>2020-01-01 00:01:58</td>\n",
              "      <td>2020-01-01 00:04:16</td>\n",
              "      <td>1.0</td>\n",
              "      <td>193</td>\n",
              "      <td>193</td>\n",
              "      <td>3.5</td>\n",
              "      <td>Wednesday</td>\n",
              "      <td>Wednesday</td>\n",
              "      <td>1</td>\n",
              "      <td>1</td>\n",
              "      <td>1</td>\n",
              "      <td>1</td>\n",
              "    </tr>\n",
              "  </tbody>\n",
              "</table>\n",
              "</div>"
            ],
            "text/plain": [
              "   VendorID tpep_pickup_datetime  ... month_Pickup  month_dropoff\n",
              "0       1.0  2020-01-01 00:28:15  ...            1              1\n",
              "1       1.0  2020-01-01 00:35:39  ...            1              1\n",
              "2       1.0  2020-01-01 00:47:41  ...            1              1\n",
              "3       1.0  2020-01-01 00:55:23  ...            1              1\n",
              "4       2.0  2020-01-01 00:01:58  ...            1              1\n",
              "\n",
              "[5 rows x 13 columns]"
            ]
          },
          "metadata": {
            "tags": []
          },
          "execution_count": 12
        }
      ]
    },
    {
      "cell_type": "code",
      "metadata": {
        "colab": {
          "base_uri": "https://localhost:8080/"
        },
        "id": "xpRJsJVOrHB7",
        "outputId": "c04dcf1d-ca93-454b-d9fa-7bfffafa24df"
      },
      "source": [
        "data.info()"
      ],
      "execution_count": null,
      "outputs": [
        {
          "output_type": "stream",
          "text": [
            "<class 'pandas.core.frame.DataFrame'>\n",
            "RangeIndex: 1243241 entries, 0 to 1243240\n",
            "Data columns (total 13 columns):\n",
            " #   Column                 Non-Null Count    Dtype         \n",
            "---  ------                 --------------    -----         \n",
            " 0   VendorID               1227632 non-null  float64       \n",
            " 1   tpep_pickup_datetime   1243241 non-null  datetime64[ns]\n",
            " 2   tpep_dropoff_datetime  1243241 non-null  datetime64[ns]\n",
            " 3   passenger_count        1227632 non-null  float64       \n",
            " 4   PULocationID           1243241 non-null  int64         \n",
            " 5   DOLocationID           1243241 non-null  int64         \n",
            " 6   fare_amount            1243241 non-null  float64       \n",
            " 7   weekday_pickup         1243241 non-null  object        \n",
            " 8   weekday_dropoff        1243241 non-null  object        \n",
            " 9   day_Pickup             1243241 non-null  int64         \n",
            " 10  day_dropoff            1243241 non-null  int64         \n",
            " 11  month_Pickup           1243241 non-null  int64         \n",
            " 12  month_dropoff          1243241 non-null  int64         \n",
            "dtypes: datetime64[ns](2), float64(3), int64(6), object(2)\n",
            "memory usage: 123.3+ MB\n"
          ],
          "name": "stdout"
        }
      ]
    },
    {
      "cell_type": "code",
      "metadata": {
        "colab": {
          "base_uri": "https://localhost:8080/"
        },
        "id": "AS7oW5GTrZG8",
        "outputId": "f25364a9-9049-4111-b4ac-719077186f1d"
      },
      "source": [
        "n = data.nunique(axis=0)\r\n",
        "print(n)"
      ],
      "execution_count": null,
      "outputs": [
        {
          "output_type": "stream",
          "text": [
            "VendorID                      2\n",
            "tpep_pickup_datetime     465021\n",
            "tpep_dropoff_datetime    466414\n",
            "passenger_count              10\n",
            "PULocationID                255\n",
            "DOLocationID                261\n",
            "fare_amount                3135\n",
            "weekday_pickup                7\n",
            "weekday_dropoff               7\n",
            "day_Pickup                    7\n",
            "day_dropoff                   9\n",
            "month_Pickup                  1\n",
            "month_dropoff                 1\n",
            "dtype: int64\n"
          ],
          "name": "stdout"
        }
      ]
    },
    {
      "cell_type": "code",
      "metadata": {
        "colab": {
          "base_uri": "https://localhost:8080/",
          "height": 17
        },
        "id": "N26KSgZKjM2I",
        "outputId": "aad0b861-14ef-45ef-ddd8-d33113a86667"
      },
      "source": [
        "from google.colab import files\r\n",
        "data.to_csv('data.csv')\r\n",
        "files.download('data.csv')"
      ],
      "execution_count": null,
      "outputs": [
        {
          "output_type": "display_data",
          "data": {
            "application/javascript": [
              "\n",
              "    async function download(id, filename, size) {\n",
              "      if (!google.colab.kernel.accessAllowed) {\n",
              "        return;\n",
              "      }\n",
              "      const div = document.createElement('div');\n",
              "      const label = document.createElement('label');\n",
              "      label.textContent = `Downloading \"${filename}\": `;\n",
              "      div.appendChild(label);\n",
              "      const progress = document.createElement('progress');\n",
              "      progress.max = size;\n",
              "      div.appendChild(progress);\n",
              "      document.body.appendChild(div);\n",
              "\n",
              "      const buffers = [];\n",
              "      let downloaded = 0;\n",
              "\n",
              "      const channel = await google.colab.kernel.comms.open(id);\n",
              "      // Send a message to notify the kernel that we're ready.\n",
              "      channel.send({})\n",
              "\n",
              "      for await (const message of channel.messages) {\n",
              "        // Send a message to notify the kernel that we're ready.\n",
              "        channel.send({})\n",
              "        if (message.buffers) {\n",
              "          for (const buffer of message.buffers) {\n",
              "            buffers.push(buffer);\n",
              "            downloaded += buffer.byteLength;\n",
              "            progress.value = downloaded;\n",
              "          }\n",
              "        }\n",
              "      }\n",
              "      const blob = new Blob(buffers, {type: 'application/binary'});\n",
              "      const a = document.createElement('a');\n",
              "      a.href = window.URL.createObjectURL(blob);\n",
              "      a.download = filename;\n",
              "      div.appendChild(a);\n",
              "      a.click();\n",
              "      div.remove();\n",
              "    }\n",
              "  "
            ],
            "text/plain": [
              "<IPython.core.display.Javascript object>"
            ]
          },
          "metadata": {
            "tags": []
          }
        },
        {
          "output_type": "display_data",
          "data": {
            "application/javascript": [
              "download(\"download_fdcae778-7288-4c74-be02-3c094379b27b\", \"data.csv\", 126120764)"
            ],
            "text/plain": [
              "<IPython.core.display.Javascript object>"
            ]
          },
          "metadata": {
            "tags": []
          }
        }
      ]
    },
    {
      "cell_type": "code",
      "metadata": {
        "colab": {
          "base_uri": "https://localhost:8080/"
        },
        "id": "PdKyqplX043c",
        "outputId": "f177f4cf-a4df-4f06-89e8-1ac7c05d3e22"
      },
      "source": [
        "data['weekday_pickup'].unique()"
      ],
      "execution_count": null,
      "outputs": [
        {
          "output_type": "execute_result",
          "data": {
            "text/plain": [
              "array(['Wednesday', 'Friday', 'Thursday', 'Saturday', 'Sunday', 'Monday',\n",
              "       'Tuesday'], dtype=object)"
            ]
          },
          "metadata": {
            "tags": []
          },
          "execution_count": 15
        }
      ]
    },
    {
      "cell_type": "code",
      "metadata": {
        "colab": {
          "base_uri": "https://localhost:8080/"
        },
        "id": "UVxaJVAH01mp",
        "outputId": "df4dae22-aab7-48ef-e158-6c8b2c4c42d4"
      },
      "source": [
        "counts = data['weekday_pickup'].value_counts().to_dict()\r\n",
        "print(counts)"
      ],
      "execution_count": null,
      "outputs": [
        {
          "output_type": "stream",
          "text": [
            "{'Tuesday': 201520, 'Friday': 183477, 'Saturday': 182752, 'Monday': 179515, 'Wednesday': 169437, 'Sunday': 164399, 'Thursday': 162141}\n"
          ],
          "name": "stdout"
        }
      ]
    },
    {
      "cell_type": "markdown",
      "metadata": {
        "id": "2GyjSr6GfWu8"
      },
      "source": [
        ""
      ]
    }
  ]
}