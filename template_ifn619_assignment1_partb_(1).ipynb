{
  "cells": [
    {
      "cell_type": "markdown",
      "metadata": {
        "id": "view-in-github",
        "colab_type": "text"
      },
      "source": [
        "<a href=\"https://colab.research.google.com/github/trivedi555/MachineLearning/blob/main/template_ifn619_assignment1_partb_(1).ipynb\" target=\"_parent\"><img src=\"https://colab.research.google.com/assets/colab-badge.svg\" alt=\"Open In Colab\"/></a>"
      ]
    },
    {
      "cell_type": "markdown",
      "metadata": {
        "id": "DVumnGGWZ0nA"
      },
      "source": [
        "\n",
        "# IFN619 - Assignment 1 - Part B\n",
        "\n",
        "## Foundational Techniques\n",
        "\n",
        "#### INSTRUCTIONS\n",
        "\n",
        "1. Complete the section below with your personal details (and run the cell)\n",
        "2. Complete the full **QDAVI** data analytics cycle for both questions. Ensure that you complete the cycle by addressing the question with your insights.\n",
        "3. Ensure that you use markdown cells to document your thinking and decision making for each stage of the process. Be clear on how your decisions are working towards addressing the question.\n",
        "4. Ensure that your code runs without errors, and that your results are appropriate for the question.\n",
        "5. Use comments in your code to explain what you are doing"
      ]
    },
    {
      "cell_type": "code",
      "execution_count": null,
      "metadata": {
        "id": "Svy-TUBXZ0nG"
      },
      "outputs": [],
      "source": [
        "# Complete the following cell with your details and run to produce your personalised header for this assignment\n",
        "\n",
        "from IPython.display import display, HTML\n",
        "first_name = \"Rujuta Amar\"\n",
        "last_name = \"Kelkar\"\n",
        "student_number = \"n11195231\"\n",
        "\n",
        "personal_header = \"<h1>\"+first_name+\" \"+last_name+\" (\"+student_number+\")</h1>\"\n",
        "display(HTML(personal_header))\n",
        "\n",
        "\n"
      ]
    },
    {
      "cell_type": "markdown",
      "metadata": {
        "id": "s-RjG58jZ0nJ"
      },
      "source": [
        "---\n",
        "\n",
        "## QUESTION 1\n",
        "\n",
        "#### Question: \n",
        "\n",
        "Using *Bureau of Meteorology* Climate Data Online, investigate the daily rainfall for Brisbane and identify significant periods of time during the last 3 years. Once you have found significant periods of time, compare Brisbane's rainfall for those periods with another Australian city of your choice. What insights can be gained from your analysis, and who might benefit from them?\n",
        "\n",
        "#### Data:\n",
        "\n",
        "[BOM Climate Data Online](http://www.bom.gov.au/climate/data/index.shtml?bookmark=136)\n"
      ]
    },
    {
      "cell_type": "code",
      "execution_count": null,
      "metadata": {
        "id": "e4NwsMZ9Z0nK"
      },
      "outputs": [],
      "source": [
        "# import libraries for this question here\n",
        "import pandas as pd\n",
        "import matplotlib.pyplot as plt\n"
      ]
    },
    {
      "cell_type": "markdown",
      "metadata": {
        "id": "h5wq3E_3Z0nL"
      },
      "source": [
        "### 1.1 Question"
      ]
    },
    {
      "cell_type": "markdown",
      "metadata": {
        "id": "rBIZ_8KrZ0nL"
      },
      "source": [
        "*## Your interpretation of the question here ##*\n",
        "\n",
        "*##To get the datsets for rainfall in Brisbane for last 3 years and compare them with another\n",
        "*##city for a same time period and derive usefull insights from them.\n"
      ]
    },
    {
      "cell_type": "markdown",
      "metadata": {
        "id": "293JTx6eZ0nN"
      },
      "source": [
        "### 1.2 Data"
      ]
    },
    {
      "cell_type": "code",
      "source": [
        "#2019Data\n",
        "from google.colab import files\n",
        " \n",
        " \n",
        "uploaded = files.upload()"
      ],
      "metadata": {
        "colab": {
          "resources": {
            "http://localhost:8080/nbextensions/google.colab/files.js": {
              "data": "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",
              "ok": true,
              "headers": [
                [
                  "content-type",
                  "application/javascript"
                ]
              ],
              "status": 200,
              "status_text": ""
            }
          },
          "base_uri": "https://localhost:8080/",
          "height": 56
        },
        "id": "xx76Wzuaeane",
        "outputId": "49dfaa4d-e2a5-403b-fa16-04c58aeab83c"
      },
      "execution_count": null,
      "outputs": [
        {
          "output_type": "display_data",
          "data": {
            "text/plain": [
              "<IPython.core.display.HTML object>"
            ],
            "text/html": [
              "\n",
              "     <input type=\"file\" id=\"files-2135ea6f-9743-4311-a40d-4f39240e01f0\" name=\"files[]\" multiple disabled\n",
              "        style=\"border:none\" />\n",
              "     <output id=\"result-2135ea6f-9743-4311-a40d-4f39240e01f0\">\n",
              "      Upload widget is only available when the cell has been executed in the\n",
              "      current browser session. Please rerun this cell to enable.\n",
              "      </output>\n",
              "      <script src=\"/nbextensions/google.colab/files.js\"></script> "
            ]
          },
          "metadata": {}
        },
        {
          "output_type": "stream",
          "name": "stdout",
          "text": [
            "Saving IDCJAC0009_040913_2019_Data.csv to IDCJAC0009_040913_2019_Data.csv\n"
          ]
        }
      ]
    },
    {
      "cell_type": "code",
      "source": [
        "#2020Data\n",
        "from google.colab import files\n",
        " \n",
        " \n",
        "uploaded = files.upload()"
      ],
      "metadata": {
        "colab": {
          "resources": {
            "http://localhost:8080/nbextensions/google.colab/files.js": {
              "data": "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",
              "ok": true,
              "headers": [
                [
                  "content-type",
                  "application/javascript"
                ]
              ],
              "status": 200,
              "status_text": ""
            }
          },
          "base_uri": "https://localhost:8080/",
          "height": 73
        },
        "id": "5LldAMXKkpPE",
        "outputId": "0cc3e145-2710-485e-c162-b14796007601"
      },
      "execution_count": null,
      "outputs": [
        {
          "output_type": "display_data",
          "data": {
            "text/plain": [
              "<IPython.core.display.HTML object>"
            ],
            "text/html": [
              "\n",
              "     <input type=\"file\" id=\"files-6bc74c14-6555-4918-a927-9fbd40e51a6c\" name=\"files[]\" multiple disabled\n",
              "        style=\"border:none\" />\n",
              "     <output id=\"result-6bc74c14-6555-4918-a927-9fbd40e51a6c\">\n",
              "      Upload widget is only available when the cell has been executed in the\n",
              "      current browser session. Please rerun this cell to enable.\n",
              "      </output>\n",
              "      <script src=\"/nbextensions/google.colab/files.js\"></script> "
            ]
          },
          "metadata": {}
        },
        {
          "output_type": "stream",
          "name": "stdout",
          "text": [
            "Saving IDCJAC0009_040913_2020_Data.csv to IDCJAC0009_040913_2020_Data.csv\n"
          ]
        }
      ]
    },
    {
      "cell_type": "code",
      "source": [
        "#2021Data\n",
        "from google.colab import files\n",
        " \n",
        " \n",
        "uploaded = files.upload()"
      ],
      "metadata": {
        "colab": {
          "resources": {
            "http://localhost:8080/nbextensions/google.colab/files.js": {
              "data": "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",
              "ok": true,
              "headers": [
                [
                  "content-type",
                  "application/javascript"
                ]
              ],
              "status": 200,
              "status_text": ""
            }
          },
          "base_uri": "https://localhost:8080/",
          "height": 73
        },
        "id": "BJDzdrw8lGAW",
        "outputId": "e07d568a-3618-410a-9cac-03fdab39144a"
      },
      "execution_count": null,
      "outputs": [
        {
          "output_type": "display_data",
          "data": {
            "text/plain": [
              "<IPython.core.display.HTML object>"
            ],
            "text/html": [
              "\n",
              "     <input type=\"file\" id=\"files-ba8b304c-5f17-445d-a405-a6abaa1ee3f9\" name=\"files[]\" multiple disabled\n",
              "        style=\"border:none\" />\n",
              "     <output id=\"result-ba8b304c-5f17-445d-a405-a6abaa1ee3f9\">\n",
              "      Upload widget is only available when the cell has been executed in the\n",
              "      current browser session. Please rerun this cell to enable.\n",
              "      </output>\n",
              "      <script src=\"/nbextensions/google.colab/files.js\"></script> "
            ]
          },
          "metadata": {}
        },
        {
          "output_type": "stream",
          "name": "stdout",
          "text": [
            "Saving IDCJAC0009_040913_2021_Data.csv to IDCJAC0009_040913_2021_Data.csv\n"
          ]
        }
      ]
    },
    {
      "cell_type": "code",
      "execution_count": null,
      "metadata": {
        "scrolled": true,
        "tags": [],
        "id": "8k5YB74SZ0nN"
      },
      "outputs": [],
      "source": [
        "# Import the data\n",
        "Brisbane_2019_df = pd.read_csv('IDCJAC0009_040913_2019_Data.csv')\n",
        "Brisbane_2020_df = pd.read_csv('IDCJAC0009_040913_2020_Data.csv')\n",
        "Brisbane_2021_df = pd.read_csv('IDCJAC0009_040913_2021_Data.csv')\n",
        "#displaying amount of rainfall for the year 2019\n"
      ]
    },
    {
      "cell_type": "code",
      "source": [
        "#Renaming the column\n",
        "Brisbane_2019_df.rename(columns = {'Month':'Month_Number', 'Rainfall amount (millimetres)':'Rainfall_in_mm'}, inplace = True)\n",
        "#Renaming the column\n",
        "Brisbane_2020_df.rename(columns = {'Month':'Month_Number', 'Rainfall amount (millimetres)':'Rainfall_in_mm'}, inplace = True)\n",
        "#Renaming the column\n",
        "Brisbane_2021_df.rename(columns = {'Month':'Month_Number', 'Rainfall amount (millimetres)':'Rainfall_in_mm'}, inplace = True)"
      ],
      "metadata": {
        "id": "PFbRzeJrzILe"
      },
      "execution_count": null,
      "outputs": []
    },
    {
      "cell_type": "code",
      "source": [
        "#combinig records of all three data frames into one data frame\n",
        "frames = [Brisbane_2019_df, Brisbane_2020_df, Brisbane_2021_df]\n",
        "\n",
        "Brisbane_frames = pd.concat(frames)"
      ],
      "metadata": {
        "id": "kRQL7t4ElaaT"
      },
      "execution_count": null,
      "outputs": []
    },
    {
      "cell_type": "code",
      "source": [
        "#Renaming the column\n",
        "Brisbane_frames.rename(columns = {'Month':'Month_Number', 'Rainfall amount (millimetres)':'Rainfall_in_mm'}, inplace = True)"
      ],
      "metadata": {
        "id": "0Bf7MdWcgV3Y"
      },
      "execution_count": null,
      "outputs": []
    },
    {
      "cell_type": "code",
      "source": [
        "Brisbane_frames.head()"
      ],
      "metadata": {
        "colab": {
          "base_uri": "https://localhost:8080/",
          "height": 267
        },
        "id": "kDt6Q_xihRai",
        "outputId": "0f93fa87-41b4-41ba-85f2-2d926ef7eb4a"
      },
      "execution_count": null,
      "outputs": [
        {
          "output_type": "execute_result",
          "data": {
            "text/plain": [
              "  Product code  Bureau of Meteorology station number  Year  Month_Number  Day  \\\n",
              "0   IDCJAC0009                                 40913  2019             1    1   \n",
              "1   IDCJAC0009                                 40913  2019             1    2   \n",
              "2   IDCJAC0009                                 40913  2019             1    3   \n",
              "3   IDCJAC0009                                 40913  2019             1    4   \n",
              "4   IDCJAC0009                                 40913  2019             1    5   \n",
              "\n",
              "   Rainfall_in_mm  Period over which rainfall was measured (days) Quality  \n",
              "0             0.0                                             1.0       N  \n",
              "1             0.0                                             1.0       N  \n",
              "2             8.4                                             1.0       N  \n",
              "3             7.0                                             1.0       N  \n",
              "4             0.2                                             1.0       N  "
            ],
            "text/html": [
              "\n",
              "  <div id=\"df-801c7b02-7e5d-474a-b1d3-94004643d810\">\n",
              "    <div class=\"colab-df-container\">\n",
              "      <div>\n",
              "<style scoped>\n",
              "    .dataframe tbody tr th:only-of-type {\n",
              "        vertical-align: middle;\n",
              "    }\n",
              "\n",
              "    .dataframe tbody tr th {\n",
              "        vertical-align: top;\n",
              "    }\n",
              "\n",
              "    .dataframe thead th {\n",
              "        text-align: right;\n",
              "    }\n",
              "</style>\n",
              "<table border=\"1\" class=\"dataframe\">\n",
              "  <thead>\n",
              "    <tr style=\"text-align: right;\">\n",
              "      <th></th>\n",
              "      <th>Product code</th>\n",
              "      <th>Bureau of Meteorology station number</th>\n",
              "      <th>Year</th>\n",
              "      <th>Month_Number</th>\n",
              "      <th>Day</th>\n",
              "      <th>Rainfall_in_mm</th>\n",
              "      <th>Period over which rainfall was measured (days)</th>\n",
              "      <th>Quality</th>\n",
              "    </tr>\n",
              "  </thead>\n",
              "  <tbody>\n",
              "    <tr>\n",
              "      <th>0</th>\n",
              "      <td>IDCJAC0009</td>\n",
              "      <td>40913</td>\n",
              "      <td>2019</td>\n",
              "      <td>1</td>\n",
              "      <td>1</td>\n",
              "      <td>0.0</td>\n",
              "      <td>1.0</td>\n",
              "      <td>N</td>\n",
              "    </tr>\n",
              "    <tr>\n",
              "      <th>1</th>\n",
              "      <td>IDCJAC0009</td>\n",
              "      <td>40913</td>\n",
              "      <td>2019</td>\n",
              "      <td>1</td>\n",
              "      <td>2</td>\n",
              "      <td>0.0</td>\n",
              "      <td>1.0</td>\n",
              "      <td>N</td>\n",
              "    </tr>\n",
              "    <tr>\n",
              "      <th>2</th>\n",
              "      <td>IDCJAC0009</td>\n",
              "      <td>40913</td>\n",
              "      <td>2019</td>\n",
              "      <td>1</td>\n",
              "      <td>3</td>\n",
              "      <td>8.4</td>\n",
              "      <td>1.0</td>\n",
              "      <td>N</td>\n",
              "    </tr>\n",
              "    <tr>\n",
              "      <th>3</th>\n",
              "      <td>IDCJAC0009</td>\n",
              "      <td>40913</td>\n",
              "      <td>2019</td>\n",
              "      <td>1</td>\n",
              "      <td>4</td>\n",
              "      <td>7.0</td>\n",
              "      <td>1.0</td>\n",
              "      <td>N</td>\n",
              "    </tr>\n",
              "    <tr>\n",
              "      <th>4</th>\n",
              "      <td>IDCJAC0009</td>\n",
              "      <td>40913</td>\n",
              "      <td>2019</td>\n",
              "      <td>1</td>\n",
              "      <td>5</td>\n",
              "      <td>0.2</td>\n",
              "      <td>1.0</td>\n",
              "      <td>N</td>\n",
              "    </tr>\n",
              "  </tbody>\n",
              "</table>\n",
              "</div>\n",
              "      <button class=\"colab-df-convert\" onclick=\"convertToInteractive('df-801c7b02-7e5d-474a-b1d3-94004643d810')\"\n",
              "              title=\"Convert this dataframe to an interactive table.\"\n",
              "              style=\"display:none;\">\n",
              "        \n",
              "  <svg xmlns=\"http://www.w3.org/2000/svg\" height=\"24px\"viewBox=\"0 0 24 24\"\n",
              "       width=\"24px\">\n",
              "    <path d=\"M0 0h24v24H0V0z\" fill=\"none\"/>\n",
              "    <path d=\"M18.56 5.44l.94 2.06.94-2.06 2.06-.94-2.06-.94-.94-2.06-.94 2.06-2.06.94zm-11 1L8.5 8.5l.94-2.06 2.06-.94-2.06-.94L8.5 2.5l-.94 2.06-2.06.94zm10 10l.94 2.06.94-2.06 2.06-.94-2.06-.94-.94-2.06-.94 2.06-2.06.94z\"/><path d=\"M17.41 7.96l-1.37-1.37c-.4-.4-.92-.59-1.43-.59-.52 0-1.04.2-1.43.59L10.3 9.45l-7.72 7.72c-.78.78-.78 2.05 0 2.83L4 21.41c.39.39.9.59 1.41.59.51 0 1.02-.2 1.41-.59l7.78-7.78 2.81-2.81c.8-.78.8-2.07 0-2.86zM5.41 20L4 18.59l7.72-7.72 1.47 1.35L5.41 20z\"/>\n",
              "  </svg>\n",
              "      </button>\n",
              "      \n",
              "  <style>\n",
              "    .colab-df-container {\n",
              "      display:flex;\n",
              "      flex-wrap:wrap;\n",
              "      gap: 12px;\n",
              "    }\n",
              "\n",
              "    .colab-df-convert {\n",
              "      background-color: #E8F0FE;\n",
              "      border: none;\n",
              "      border-radius: 50%;\n",
              "      cursor: pointer;\n",
              "      display: none;\n",
              "      fill: #1967D2;\n",
              "      height: 32px;\n",
              "      padding: 0 0 0 0;\n",
              "      width: 32px;\n",
              "    }\n",
              "\n",
              "    .colab-df-convert:hover {\n",
              "      background-color: #E2EBFA;\n",
              "      box-shadow: 0px 1px 2px rgba(60, 64, 67, 0.3), 0px 1px 3px 1px rgba(60, 64, 67, 0.15);\n",
              "      fill: #174EA6;\n",
              "    }\n",
              "\n",
              "    [theme=dark] .colab-df-convert {\n",
              "      background-color: #3B4455;\n",
              "      fill: #D2E3FC;\n",
              "    }\n",
              "\n",
              "    [theme=dark] .colab-df-convert:hover {\n",
              "      background-color: #434B5C;\n",
              "      box-shadow: 0px 1px 3px 1px rgba(0, 0, 0, 0.15);\n",
              "      filter: drop-shadow(0px 1px 2px rgba(0, 0, 0, 0.3));\n",
              "      fill: #FFFFFF;\n",
              "    }\n",
              "  </style>\n",
              "\n",
              "      <script>\n",
              "        const buttonEl =\n",
              "          document.querySelector('#df-801c7b02-7e5d-474a-b1d3-94004643d810 button.colab-df-convert');\n",
              "        buttonEl.style.display =\n",
              "          google.colab.kernel.accessAllowed ? 'block' : 'none';\n",
              "\n",
              "        async function convertToInteractive(key) {\n",
              "          const element = document.querySelector('#df-801c7b02-7e5d-474a-b1d3-94004643d810');\n",
              "          const dataTable =\n",
              "            await google.colab.kernel.invokeFunction('convertToInteractive',\n",
              "                                                     [key], {});\n",
              "          if (!dataTable) return;\n",
              "\n",
              "          const docLinkHtml = 'Like what you see? Visit the ' +\n",
              "            '<a target=\"_blank\" href=https://colab.research.google.com/notebooks/data_table.ipynb>data table notebook</a>'\n",
              "            + ' to learn more about interactive tables.';\n",
              "          element.innerHTML = '';\n",
              "          dataTable['output_type'] = 'display_data';\n",
              "          await google.colab.output.renderOutput(dataTable, element);\n",
              "          const docLink = document.createElement('div');\n",
              "          docLink.innerHTML = docLinkHtml;\n",
              "          element.appendChild(docLink);\n",
              "        }\n",
              "      </script>\n",
              "    </div>\n",
              "  </div>\n",
              "  "
            ]
          },
          "metadata": {},
          "execution_count": 78
        }
      ]
    },
    {
      "cell_type": "code",
      "source": [
        "#plotting of day-waise Rain against month numbers\n",
        "plt.plot(Brisbane_frames.Month_Number, Brisbane_frames.Rainfall_in_mm, '--ro')  # ro = red circles\n",
        "plt.xlabel(\"Month Number\") \n",
        "plt.ylabel(\"Rainfall in mm\")\n",
        "plt.show()\n"
      ],
      "metadata": {
        "colab": {
          "base_uri": "https://localhost:8080/",
          "height": 279
        },
        "id": "PoMBM2mpmx6Z",
        "outputId": "1781a35c-7800-4269-ba2a-6f74503a4db0"
      },
      "execution_count": null,
      "outputs": [
        {
          "output_type": "display_data",
          "data": {
            "text/plain": [
              "<Figure size 432x288 with 1 Axes>"
            ],
            "image/png": "[encoded data removed]"
          },
          "metadata": {
            "needs_background": "light"
          }
        }
      ]
    },
    {
      "cell_type": "code",
      "source": [
        "#plotting of day-waise Rain against years\n",
        "plt.plot(Brisbane_frames.Year, Brisbane_frames.Rainfall_in_mm, '--go')  # ro = red circles\n",
        "plt.xlabel(\"Year\") \n",
        "plt.ylabel(\"Rainfall in mm\")\n",
        "plt.show()"
      ],
      "metadata": {
        "colab": {
          "base_uri": "https://localhost:8080/",
          "height": 279
        },
        "id": "ow7rr6JFxzyC",
        "outputId": "e8c4a7b3-5fa0-4a99-ee8c-c600c7cc154d"
      },
      "execution_count": null,
      "outputs": [
        {
          "output_type": "display_data",
          "data": {
            "text/plain": [
              "<Figure size 432x288 with 1 Axes>"
            ],
            "image/png": "[encoded data removed]"
          },
          "metadata": {
            "needs_background": "light"
          }
        }
      ]
    },
    {
      "cell_type": "code",
      "source": [
        "#monthly_avg Rain of all 3 years-sperately\n",
        "Monthly_Rain_Mean_2019 = (Brisbane_2019_df.groupby('Month_Number'))['Rainfall_in_mm'].mean()\n",
        "Monthly_Rain_Mean_2020 = (Brisbane_2020_df.groupby('Month_Number'))['Rainfall_in_mm'].mean()\n",
        "Monthly_Rain_Mean_2021 = (Brisbane_2021_df.groupby('Month_Number'))['Rainfall_in_mm'].mean()\n",
        "\n",
        "\n",
        "plt.subplot(3,1,1) \n",
        "plt.plot(Monthly_Rain_Mean_2019, color=\"g\", label= '2019')\n",
        "plt.title(\"Avg Rain in January to December 2019\")\n",
        "plt.subplot(3,1,2)\n",
        "plt.plot(Monthly_Rain_Mean_2020, color=\"b\", label= '2020')\n",
        "plt.title(\"Avg Rain in January to December 2020\")\n",
        "plt.subplot(3,1,3)\n",
        "plt.plot(Monthly_Rain_Mean_2021, color=\"r\", label= '2021')\n",
        "plt.title(\"Avg Rain in January to December 2021\")\n",
        "\n",
        "plt.xlabel(\"Months\") # Adding the label for the horizontal axis\n",
        "plt.ylabel(\"Rain in mm\") \n",
        "\n",
        "plt.suptitle(\"Sub Plots of Rain in mm\") # Add a centered title to the figure.\n",
        "plt.show()\n"
      ],
      "metadata": {
        "colab": {
          "base_uri": "https://localhost:8080/",
          "height": 308
        },
        "id": "uedjGZn7ykDZ",
        "outputId": "5a8a3034-4831-4961-e70e-55d22d704385"
      },
      "execution_count": 93,
      "outputs": [
        {
          "output_type": "display_data",
          "data": {
            "text/plain": [
              "<Figure size 432x288 with 3 Axes>"
            ],
            "image/png": "[encoded data removed]"
          },
          "metadata": {
            "needs_background": "light"
          }
        }
      ]
    },
    {
      "cell_type": "code",
      "source": [
        "\n",
        "plt.plot(Monthly_Rain_Mean_2019, color=\"g\", label= '2019')\n",
        "plt.plot(Monthly_Rain_Mean_2020, color=\"b\", label= '2020')\n",
        "plt.plot(Monthly_Rain_Mean_2021, color=\"r\", label= '2021')\n",
        "plt.title(\"Avg Rain in January to December\")\n",
        "\n",
        "plt.xlabel(\"Months\") # Adding the label for the horizontal axis\n",
        "plt.ylabel(\"Rain in mm\") \n",
        "\n",
        "\n",
        "plt.show()"
      ],
      "metadata": {
        "colab": {
          "base_uri": "https://localhost:8080/",
          "height": 295
        },
        "id": "g2aXpiaN2qhZ",
        "outputId": "6f02784e-14e1-4327-f613-ac54f69538f5"
      },
      "execution_count": 94,
      "outputs": [
        {
          "output_type": "display_data",
          "data": {
            "text/plain": [
              "<Figure size 432x288 with 1 Axes>"
            ],
            "image/png": "[encoded data removed]"
          },
          "metadata": {
            "needs_background": "light"
          }
        }
      ]
    },
    {
      "cell_type": "code",
      "source": [
        "plt.plot(Monthly_Rain_Mean_2020, color=\"r\")\n",
        "plt.title(\"Avg Rain in January to December for 2020\")\n",
        "plt.xlabel(\"Months\") # Adding the label for the horizontal axis\n",
        "plt.ylabel(\"Rain in mm\") \n",
        "plt.show()"
      ],
      "metadata": {
        "colab": {
          "base_uri": "https://localhost:8080/",
          "height": 295
        },
        "id": "gpNfH71hzb0a",
        "outputId": "9a8e3e2f-d86e-48f9-b10a-297cc331a0fe"
      },
      "execution_count": null,
      "outputs": [
        {
          "output_type": "display_data",
          "data": {
            "text/plain": [
              "<Figure size 432x288 with 1 Axes>"
            ],
            "image/png": "[encoded data removed]"
          },
          "metadata": {
            "needs_background": "light"
          }
        }
      ]
    },
    {
      "cell_type": "code",
      "source": [
        "plt.plot(Monthly_Rain_Mean_2021, color=\"b\")\n",
        "plt.title(\"Avg Rain in January to December for 2019\")\n",
        "plt.xlabel(\"Months\") # Adding the label for the horizontal axis\n",
        "plt.ylabel(\"Rain in mm\") \n",
        "plt.show()"
      ],
      "metadata": {
        "colab": {
          "base_uri": "https://localhost:8080/",
          "height": 295
        },
        "id": "jDrG9iPCzdoi",
        "outputId": "1f1f47cd-2c7a-46cf-8ec5-98ba5efb7ef6"
      },
      "execution_count": null,
      "outputs": [
        {
          "output_type": "display_data",
          "data": {
            "text/plain": [
              "<Figure size 432x288 with 1 Axes>"
            ],
            "image/png": "[encoded data removed]"
          },
          "metadata": {
            "needs_background": "light"
          }
        }
      ]
    },
    {
      "cell_type": "code",
      "source": [
        "#monthly_avg Rain of all 3 years\n",
        "Monthly_Rain_Mean = (Brisbane_frames.groupby('Month_Number'))['Rainfall_in_mm'].mean()\n",
        "Monthly_Rain_Mean"
      ],
      "metadata": {
        "colab": {
          "base_uri": "https://localhost:8080/"
        },
        "id": "AV6xlKnuoKZ7",
        "outputId": "8828c026-1f08-468e-c7e6-90afb4f3b8bb"
      },
      "execution_count": null,
      "outputs": [
        {
          "output_type": "execute_result",
          "data": {
            "text/plain": [
              "Month_Number\n",
              "1     3.074725\n",
              "2     6.447059\n",
              "3     6.040964\n",
              "4     1.797753\n",
              "5     1.369892\n",
              "6     1.240909\n",
              "7     1.358696\n",
              "8     0.352273\n",
              "9     0.288636\n",
              "10    4.270968\n",
              "11    3.224719\n",
              "12    5.578824\n",
              "Name: Rainfall_in_mm, dtype: float64"
            ]
          },
          "metadata": {},
          "execution_count": 72
        }
      ]
    },
    {
      "cell_type": "code",
      "source": [
        "#Yearly_avg Rain of all 3 years\n",
        "Yearly_Rain_Mean = (Brisbane_frames.groupby('Year'))['Rainfall_in_mm'].mean()\n",
        "Yearly_Rain_Mean"
      ],
      "metadata": {
        "colab": {
          "base_uri": "https://localhost:8080/"
        },
        "id": "XpJ9wad-uACy",
        "outputId": "7a62dfc7-1335-43d6-8f56-73bf6e3c3e20"
      },
      "execution_count": null,
      "outputs": [
        {
          "output_type": "execute_result",
          "data": {
            "text/plain": [
              "Year\n",
              "2019    1.803306\n",
              "2020    2.928000\n",
              "2021    3.949288\n",
              "Name: Rainfall_in_mm, dtype: float64"
            ]
          },
          "metadata": {},
          "execution_count": 73
        }
      ]
    },
    {
      "cell_type": "code",
      "source": [
        "plt.plot(Yearly_Rain_Mean, color=\"r\")\n",
        "plt.title(\"Avg Rain in Year 2019 to 2021\")\n",
        "plt.xlabel(\"Year\") # Adding the label for the horizontal axis\n",
        "plt.ylabel(\"Rain in mm\") \n",
        "plt.show()\n",
        "plt.plot(Monthly_Rain_Mean, color=\"g\")\n",
        "plt.title(\"Avg Rain in January to December for 2019 to 2021\")\n",
        "plt.xlabel(\"Months\") # Adding the label for the horizontal axis\n",
        "plt.ylabel(\"Rain in mm\") \n",
        "plt.show()"
      ],
      "metadata": {
        "colab": {
          "base_uri": "https://localhost:8080/",
          "height": 573
        },
        "id": "px9SY7_qthWc",
        "outputId": "f7ccc17d-2381-4430-b01f-b515711764ef"
      },
      "execution_count": null,
      "outputs": [
        {
          "output_type": "display_data",
          "data": {
            "text/plain": [
              "<Figure size 432x288 with 1 Axes>"
            ],
            "image/png": "[encoded data removed]"
          },
          "metadata": {
            "needs_background": "light"
          }
        },
        {
          "output_type": "display_data",
          "data": {
            "text/plain": [
              "<Figure size 432x288 with 1 Axes>"
            ],
            "image/png": "[encoded data removed]"
          },
          "metadata": {
            "needs_background": "light"
          }
        }
      ]
    },
    {
      "cell_type": "code",
      "source": [
        "plt.bar(Brisbane_frames.Month_Number, Brisbane_frames.Rainfall_in_mm, color=\"green\")\n",
        "\n",
        "plt.title(\"Over all rain in Jan to Dec for 2019-2021\")\n",
        "plt.xlabel(\"Month\")\n",
        "plt.ylabel(\"Rainfall in mm\")\n",
        "plt.show()"
      ],
      "metadata": {
        "colab": {
          "base_uri": "https://localhost:8080/",
          "height": 295
        },
        "id": "Q70TNmVJi1XY",
        "outputId": "0f4320ec-6c16-49d3-af1c-65185aa9358e"
      },
      "execution_count": 96,
      "outputs": [
        {
          "output_type": "display_data",
          "data": {
            "text/plain": [
              "<Figure size 432x288 with 1 Axes>"
            ],
            "image/png": "[encoded data removed]"
          },
          "metadata": {
            "needs_background": "light"
          }
        }
      ]
    },
    {
      "cell_type": "markdown",
      "metadata": {
        "id": "31sYGlPbZ0nW"
      },
      "source": [
        "### 1.3 Analysis"
      ]
    },
    {
      "cell_type": "code",
      "execution_count": null,
      "metadata": {
        "id": "XVzvbDVlZ0nW"
      },
      "outputs": [],
      "source": [
        "#rainfall in Brisbane Qld over fortnight in January month\n"
      ]
    },
    {
      "cell_type": "code",
      "execution_count": null,
      "metadata": {
        "id": "-Xv2H2QYZ0nX",
        "outputId": "66e93c0d-20f1-4fb4-865c-49e0fb83f621"
      },
      "outputs": [
        {
          "data": {
            "text/plain": [
              "0     52.833333\n",
              "1     84.450000\n",
              "2    110.200000\n",
              "dtype: float64"
            ]
          },
          "execution_count": 52,
          "metadata": {},
          "output_type": "execute_result"
        }
      ],
      "source": [
        "Bne_df = pd.DataFrame([[27.6,38.0,181.0,42.6,25.4,20.6,14.4,3.2,8.8,55.0,9.6,207.8],\n",
        "                   [165.6,365.8,8.4,5.2,12.2,41.6,59.4,19.4,5.8,182.8,20.0,127.2],\n",
        "                   [86.6,144.2,300.6,112.2,89.8,26.4,51.2,8.4,10.8,159.4,257.4,75.4],\n",
        "                  ])\n",
        "Bne_df.mean(axis = 1)"
      ]
    },
    {
      "cell_type": "code",
      "execution_count": null,
      "metadata": {
        "id": "JqZK07bqZ0nX",
        "outputId": "0b72f571-5a57-415b-ddd1-88a9e7728acd"
      },
      "outputs": [
        {
          "data": {
            "text/plain": [
              "0     76.316667\n",
              "1    128.708333\n",
              "2    115.791667\n",
              "dtype: float64"
            ]
          },
          "execution_count": 55,
          "metadata": {},
          "output_type": "execute_result"
        }
      ],
      "source": [
        "Sy_df=pd.DataFrame([[54.7,85.4,248.7,8.2,15.4,183.3,49.3,92.1,114.2,35.6,27.0,1.9],\n",
        "                    [64.4,468.2,179.1,34.8,144.9,80.4,180.5,67.0,34.2,97.9,69.6,123.5],\n",
        "                    [100.5,124.1,457.2,14.8,64.3,87.6,39.6,87.8,50.8,60.8,138.7,163.3]])\n",
        "Sy_df.mean(axis = 1)"
      ]
    },
    {
      "cell_type": "code",
      "execution_count": null,
      "metadata": {
        "id": "e9evN1fNZ0nY",
        "outputId": "dedd4773-57bb-48b1-dc28-fba6adbd2ff1"
      },
      "outputs": [
        {
          "data": {
            "text/plain": [
              "0    52.833333\n",
              "1    76.316667\n",
              "dtype: float64"
            ]
          },
          "execution_count": 60,
          "metadata": {},
          "output_type": "execute_result"
        }
      ],
      "source": [
        "mean_2019_df=pd.DataFrame([[27.6,38.0,181.0,42.6,25.4,20.6,14.4,3.2,8.8,55.0,9.6,207.8],\n",
        "                          [54.7,85.4,248.7,8.2,15.4,183.3,49.3,92.1,114.2,35.6,27.0,1.9]])\n",
        "mean_2019_df.mean(axis = 1)                     "
      ]
    },
    {
      "cell_type": "code",
      "execution_count": null,
      "metadata": {
        "id": "Oi1FEEjKZ0nY",
        "outputId": "ac91622d-ee64-4f3c-da0e-546f2af0fe1c"
      },
      "outputs": [
        {
          "data": {
            "text/plain": [
              "0     84.450000\n",
              "1    128.708333\n",
              "dtype: float64"
            ]
          },
          "execution_count": 69,
          "metadata": {},
          "output_type": "execute_result"
        }
      ],
      "source": [
        "mean_2020_df=pd.DataFrame([[165.6,365.8,8.4,5.2,12.2,41.6,59.4,19.4,5.8,182.8,20.0,127.2],[64.4,468.2,179.1,34.8,144.9,80.4,180.5,67.0,34.2,97.9,69.6,123.5]])\n",
        "                       \n",
        "mean_2020_df.mean(axis = 1)   "
      ]
    },
    {
      "cell_type": "code",
      "execution_count": null,
      "metadata": {
        "id": "5_VYTjqpZ0nY",
        "outputId": "c838326a-f691-48d3-aded-369ed0177e83"
      },
      "outputs": [
        {
          "data": {
            "text/plain": [
              "0    110.200000\n",
              "1    115.791667\n",
              "dtype: float64"
            ]
          },
          "execution_count": 71,
          "metadata": {},
          "output_type": "execute_result"
        }
      ],
      "source": [
        "mean_2021_df=pd.DataFrame([[86.6,144.2,300.6,112.2,89.8,26.4,51.2,8.4,10.8,159.4,257.4,75.4],[100.5,124.1,457.2,14.8,64.3,87.6,39.6,87.8,50.8,60.8,138.7,163.3]])\n",
        "mean_2021_df.mean(axis = 1)   "
      ]
    },
    {
      "cell_type": "code",
      "execution_count": null,
      "metadata": {
        "id": "3G5K65spZ0nZ",
        "outputId": "8689437a-f4b7-46e5-94c5-bdf6bcdd2809"
      },
      "outputs": [
        {
          "data": {
            "text/plain": [
              "0    52.833333\n",
              "dtype: float64"
            ]
          },
          "execution_count": 83,
          "metadata": {},
          "output_type": "execute_result"
        }
      ],
      "source": [
        "mean_2019_Bne_df=pd.DataFrame([[27.6,38.0,181.0,42.6,25.4,20.6,14.4,3.2,8.8,55.0,9.6,207.8]])\n",
        "mean_2019_Bne_df.mean(axis = 1) \n"
      ]
    },
    {
      "cell_type": "code",
      "execution_count": null,
      "metadata": {
        "id": "pSvsgolbZ0nZ",
        "outputId": "7baa0e54-60c9-4351-d63b-991af7853b8f"
      },
      "outputs": [
        {
          "data": {
            "text/plain": [
              "0    76.316667\n",
              "dtype: float64"
            ]
          },
          "execution_count": 81,
          "metadata": {},
          "output_type": "execute_result"
        }
      ],
      "source": [
        "mean_2019_sy_df=pd.DataFrame([[54.7,85.4,248.7,8.2,15.4,183.3,49.3,92.1,114.2,35.6,27.0,1.9]])\n",
        "mean_2019_sy_df.mean(axis = 1)  "
      ]
    },
    {
      "cell_type": "code",
      "execution_count": null,
      "metadata": {
        "id": "ezFNNMlSZ0nZ",
        "outputId": "64ea006b-7921-4822-907f-812a4dec0152"
      },
      "outputs": [
        {
          "data": {
            "text/plain": [
              "0    84.45\n",
              "dtype: float64"
            ]
          },
          "execution_count": 86,
          "metadata": {},
          "output_type": "execute_result"
        }
      ],
      "source": [
        "mean_2020_Bne_df=pd.DataFrame([[165.6,365.8,8.4,5.2,12.2,41.6,59.4,19.4,5.8,182.8,20.0,127.2]]);\n",
        "mean_2020_Bne_df.mean(axis = 1)    \n",
        "                           "
      ]
    },
    {
      "cell_type": "code",
      "execution_count": null,
      "metadata": {
        "id": "-qhtHiEqZ0nZ",
        "outputId": "6f49513a-f305-4cc2-e38f-0666d0bbf1b8"
      },
      "outputs": [
        {
          "data": {
            "text/plain": [
              "0    128.708333\n",
              "dtype: float64"
            ]
          },
          "execution_count": 87,
          "metadata": {},
          "output_type": "execute_result"
        }
      ],
      "source": [
        "mean_2020_sy_df=pd.DataFrame([[64.4,468.2,179.1,34.8,144.9,80.4,180.5,67.0,34.2,97.9,69.6,123.5]])\n",
        "mean_2020_sy_df.mean(axis = 1)  "
      ]
    },
    {
      "cell_type": "code",
      "execution_count": null,
      "metadata": {
        "id": "rD1pDCc5Z0na",
        "outputId": "e3774fe4-d040-4701-9f1d-57409510cff3"
      },
      "outputs": [
        {
          "data": {
            "text/plain": [
              "0    110.2\n",
              "dtype: float64"
            ]
          },
          "execution_count": 90,
          "metadata": {},
          "output_type": "execute_result"
        }
      ],
      "source": [
        "mean_2021_Bne_df=pd.DataFrame([[86.6,144.2,300.6,112.2,89.8,26.4,51.2,8.4,10.8,159.4,257.4,75.4]])\n",
        "mean_2021_Bne_df.mean(axis = 1) "
      ]
    },
    {
      "cell_type": "code",
      "execution_count": null,
      "metadata": {
        "id": "jew_6GyrZ0na",
        "outputId": "26cee511-445e-4633-fc48-851d68979ce4"
      },
      "outputs": [
        {
          "data": {
            "text/plain": [
              "0    115.791667\n",
              "dtype: float64"
            ]
          },
          "execution_count": 89,
          "metadata": {},
          "output_type": "execute_result"
        }
      ],
      "source": [
        "mean_2021_sy_df=pd.DataFrame([[100.5,124.1,457.2,14.8,64.3,87.6,39.6,87.8,50.8,60.8,138.7,163.3]])\n",
        "mean_2021_sy_df.mean(axis = 1)  "
      ]
    },
    {
      "cell_type": "code",
      "execution_count": null,
      "metadata": {
        "id": "5dfHhMhYZ0na"
      },
      "outputs": [],
      "source": [
        ""
      ]
    },
    {
      "cell_type": "code",
      "execution_count": null,
      "metadata": {
        "id": "QArESmEqZ0na"
      },
      "outputs": [],
      "source": [
        ""
      ]
    },
    {
      "cell_type": "code",
      "execution_count": null,
      "metadata": {
        "id": "XwkxaymtZ0nb"
      },
      "outputs": [],
      "source": [
        ""
      ]
    },
    {
      "cell_type": "code",
      "execution_count": null,
      "metadata": {
        "id": "5R8eBxHDZ0nb",
        "outputId": "d454eb53-952e-46e6-f6ab-91f2a68578d6"
      },
      "outputs": [
        {
          "data": {
            "text/html": [
              "<div>\n",
              "<style scoped>\n",
              "    .dataframe tbody tr th:only-of-type {\n",
              "        vertical-align: middle;\n",
              "    }\n",
              "\n",
              "    .dataframe tbody tr th {\n",
              "        vertical-align: top;\n",
              "    }\n",
              "\n",
              "    .dataframe thead th {\n",
              "        text-align: right;\n",
              "    }\n",
              "</style>\n",
              "<table border=\"1\" class=\"dataframe\">\n",
              "  <thead>\n",
              "    <tr style=\"text-align: right;\">\n",
              "      <th></th>\n",
              "      <th>0</th>\n",
              "      <th>1</th>\n",
              "      <th>2</th>\n",
              "      <th>3</th>\n",
              "      <th>4</th>\n",
              "      <th>5</th>\n",
              "      <th>6</th>\n",
              "      <th>7</th>\n",
              "      <th>8</th>\n",
              "      <th>9</th>\n",
              "      <th>10</th>\n",
              "      <th>11</th>\n",
              "    </tr>\n",
              "  </thead>\n",
              "  <tbody>\n",
              "    <tr>\n",
              "      <th>0</th>\n",
              "      <td>27.6</td>\n",
              "      <td>38.0</td>\n",
              "      <td>8.4</td>\n",
              "      <td>5.2</td>\n",
              "      <td>12.2</td>\n",
              "      <td>20.6</td>\n",
              "      <td>14.4</td>\n",
              "      <td>3.2</td>\n",
              "      <td>5.8</td>\n",
              "      <td>55.0</td>\n",
              "      <td>9.6</td>\n",
              "      <td>75.4</td>\n",
              "    </tr>\n",
              "    <tr>\n",
              "      <th>1</th>\n",
              "      <td>86.6</td>\n",
              "      <td>144.2</td>\n",
              "      <td>181.0</td>\n",
              "      <td>42.6</td>\n",
              "      <td>25.4</td>\n",
              "      <td>26.4</td>\n",
              "      <td>51.2</td>\n",
              "      <td>8.4</td>\n",
              "      <td>8.8</td>\n",
              "      <td>159.4</td>\n",
              "      <td>20.0</td>\n",
              "      <td>127.2</td>\n",
              "    </tr>\n",
              "    <tr>\n",
              "      <th>2</th>\n",
              "      <td>165.6</td>\n",
              "      <td>365.8</td>\n",
              "      <td>300.6</td>\n",
              "      <td>112.2</td>\n",
              "      <td>89.8</td>\n",
              "      <td>41.6</td>\n",
              "      <td>59.4</td>\n",
              "      <td>19.4</td>\n",
              "      <td>10.8</td>\n",
              "      <td>182.8</td>\n",
              "      <td>257.4</td>\n",
              "      <td>207.8</td>\n",
              "    </tr>\n",
              "  </tbody>\n",
              "</table>\n",
              "</div>"
            ],
            "text/plain": [
              "      0      1      2      3     4     5     6     7     8      9      10  \\\n",
              "0   27.6   38.0    8.4    5.2  12.2  20.6  14.4   3.2   5.8   55.0    9.6   \n",
              "1   86.6  144.2  181.0   42.6  25.4  26.4  51.2   8.4   8.8  159.4   20.0   \n",
              "2  165.6  365.8  300.6  112.2  89.8  41.6  59.4  19.4  10.8  182.8  257.4   \n",
              "\n",
              "      11  \n",
              "0   75.4  \n",
              "1  127.2  \n",
              "2  207.8  "
            ]
          },
          "execution_count": 20,
          "metadata": {},
          "output_type": "execute_result"
        }
      ],
      "source": [
        "df.mode()\n"
      ]
    },
    {
      "cell_type": "code",
      "execution_count": null,
      "metadata": {
        "id": "Xe3leyzxZ0nb",
        "outputId": "31ab353a-a708-4727-d72e-bdadf98dec0a"
      },
      "outputs": [
        {
          "data": {
            "text/plain": [
              "0    26.5\n",
              "1    30.8\n",
              "2    88.2\n",
              "dtype: float64"
            ]
          },
          "execution_count": 21,
          "metadata": {},
          "output_type": "execute_result"
        }
      ],
      "source": [
        "df.median(axis = 1, skipna = True)\n"
      ]
    },
    {
      "cell_type": "code",
      "execution_count": null,
      "metadata": {
        "id": "_ymg8zq-Z0nb",
        "outputId": "199f33a4-94ba-4b04-bfad-309765ff57b6"
      },
      "outputs": [
        {
          "data": {
            "text/plain": [
              "0     68.055957\n",
              "1    109.362787\n",
              "2     92.653725\n",
              "dtype: float64"
            ]
          },
          "execution_count": 22,
          "metadata": {},
          "output_type": "execute_result"
        }
      ],
      "source": [
        "df.std(axis=1)"
      ]
    },
    {
      "cell_type": "code",
      "execution_count": null,
      "metadata": {
        "id": "O3tPFi9nZ0nb",
        "outputId": "86a83b6a-9065-4316-de50-bb21b611137e"
      },
      "outputs": [
        {
          "data": {
            "text/plain": [
              "0     76.316667\n",
              "1    128.708333\n",
              "2    115.791667\n",
              "dtype: float64"
            ]
          },
          "execution_count": 23,
          "metadata": {},
          "output_type": "execute_result"
        }
      ],
      "source": [
        "df = pd.DataFrame([[54.7,85.4,248.7,8.2,15.4,183.3,49.3,92.1,114.2,35.6,27.0,1.9],\n",
        "                   [64.4,468.2,179.1,34.8,144.9,80.4,180.5,67.0,34.2,97.9,69.6,123.5],\n",
        "                   [100.5,124.1,457.2,14.8,64.3,87.6,39.6,87.8,50.8,60.8,138.7,163.3],\n",
        "                  ])\n",
        "df.mean(axis = 1)"
      ]
    },
    {
      "cell_type": "code",
      "execution_count": null,
      "metadata": {
        "id": "x2Tp5VBEZ0nc",
        "outputId": "5c0485ae-2ea1-4f22-f309-ed497a60717f"
      },
      "outputs": [
        {
          "data": {
            "text/html": [
              "<div>\n",
              "<style scoped>\n",
              "    .dataframe tbody tr th:only-of-type {\n",
              "        vertical-align: middle;\n",
              "    }\n",
              "\n",
              "    .dataframe tbody tr th {\n",
              "        vertical-align: top;\n",
              "    }\n",
              "\n",
              "    .dataframe thead th {\n",
              "        text-align: right;\n",
              "    }\n",
              "</style>\n",
              "<table border=\"1\" class=\"dataframe\">\n",
              "  <thead>\n",
              "    <tr style=\"text-align: right;\">\n",
              "      <th></th>\n",
              "      <th>0</th>\n",
              "      <th>1</th>\n",
              "      <th>2</th>\n",
              "      <th>3</th>\n",
              "      <th>4</th>\n",
              "      <th>5</th>\n",
              "      <th>6</th>\n",
              "      <th>7</th>\n",
              "      <th>8</th>\n",
              "      <th>9</th>\n",
              "      <th>10</th>\n",
              "      <th>11</th>\n",
              "    </tr>\n",
              "  </thead>\n",
              "  <tbody>\n",
              "    <tr>\n",
              "      <th>0</th>\n",
              "      <td>54.7</td>\n",
              "      <td>85.4</td>\n",
              "      <td>179.1</td>\n",
              "      <td>8.2</td>\n",
              "      <td>15.4</td>\n",
              "      <td>80.4</td>\n",
              "      <td>39.6</td>\n",
              "      <td>67.0</td>\n",
              "      <td>34.2</td>\n",
              "      <td>35.6</td>\n",
              "      <td>27.0</td>\n",
              "      <td>1.9</td>\n",
              "    </tr>\n",
              "    <tr>\n",
              "      <th>1</th>\n",
              "      <td>64.4</td>\n",
              "      <td>124.1</td>\n",
              "      <td>248.7</td>\n",
              "      <td>14.8</td>\n",
              "      <td>64.3</td>\n",
              "      <td>87.6</td>\n",
              "      <td>49.3</td>\n",
              "      <td>87.8</td>\n",
              "      <td>50.8</td>\n",
              "      <td>60.8</td>\n",
              "      <td>69.6</td>\n",
              "      <td>123.5</td>\n",
              "    </tr>\n",
              "    <tr>\n",
              "      <th>2</th>\n",
              "      <td>100.5</td>\n",
              "      <td>468.2</td>\n",
              "      <td>457.2</td>\n",
              "      <td>34.8</td>\n",
              "      <td>144.9</td>\n",
              "      <td>183.3</td>\n",
              "      <td>180.5</td>\n",
              "      <td>92.1</td>\n",
              "      <td>114.2</td>\n",
              "      <td>97.9</td>\n",
              "      <td>138.7</td>\n",
              "      <td>163.3</td>\n",
              "    </tr>\n",
              "  </tbody>\n",
              "</table>\n",
              "</div>"
            ],
            "text/plain": [
              "      0      1      2     3      4      5      6     7      8     9      10  \\\n",
              "0   54.7   85.4  179.1   8.2   15.4   80.4   39.6  67.0   34.2  35.6   27.0   \n",
              "1   64.4  124.1  248.7  14.8   64.3   87.6   49.3  87.8   50.8  60.8   69.6   \n",
              "2  100.5  468.2  457.2  34.8  144.9  183.3  180.5  92.1  114.2  97.9  138.7   \n",
              "\n",
              "      11  \n",
              "0    1.9  \n",
              "1  123.5  \n",
              "2  163.3  "
            ]
          },
          "execution_count": 24,
          "metadata": {},
          "output_type": "execute_result"
        }
      ],
      "source": [
        "df.mode()\n"
      ]
    },
    {
      "cell_type": "code",
      "execution_count": null,
      "metadata": {
        "id": "5qckmDevZ0nc",
        "outputId": "e69b0dcd-a8ad-46be-eec0-1296df2e2615"
      },
      "outputs": [
        {
          "data": {
            "text/plain": [
              "0    52.00\n",
              "1    89.15\n",
              "2    87.70\n",
              "dtype: float64"
            ]
          },
          "execution_count": 25,
          "metadata": {},
          "output_type": "execute_result"
        }
      ],
      "source": [
        "df.median(axis = 1, skipna = True)"
      ]
    },
    {
      "cell_type": "code",
      "execution_count": null,
      "metadata": {
        "id": "mVVdScEcZ0nc",
        "outputId": "acde9fd7-47f7-4ac6-df03-0afa93fab8c8"
      },
      "outputs": [
        {
          "data": {
            "text/plain": [
              "0     75.138621\n",
              "1    118.027851\n",
              "2    115.650936\n",
              "dtype: float64"
            ]
          },
          "execution_count": 26,
          "metadata": {},
          "output_type": "execute_result"
        }
      ],
      "source": [
        "df.std(axis=1)\n"
      ]
    },
    {
      "cell_type": "code",
      "execution_count": null,
      "metadata": {
        "id": "JtjjikhwZ0nd",
        "outputId": "fada42d0-e421-4a5b-d1a9-5ece1e0e87c3"
      },
      "outputs": [
        {
          "data": {
            "text/plain": [
              "Product code  Bureau of Meteorology station number  Year  Month  Day  Rainfall amount (millimetres)  Period over which rainfall was measured (days)  Quality\n",
              "IDCJAC0009    40913                                 2019  1      1    0.0                            1.0                                             N          1\n",
              "                                                          9      9    0.0                            1.0                                             N          1\n",
              "                                                                 7    0.0                            1.0                                             N          1\n",
              "                                                                 6    0.0                            1.0                                             N          1\n",
              "                                                                 5    0.0                            1.0                                             N          1\n",
              "                                                                                                                                                               ..\n",
              "                                                          5      1    2.2                            1.0                                             N          1\n",
              "                                                          4      30   0.0                            1.0                                             N          1\n",
              "                                                                 29   0.0                            1.0                                             N          1\n",
              "                                                                 28   0.0                            1.0                                             N          1\n",
              "                                                          12     31   3.2                            1.0                                             N          1\n",
              "Length: 363, dtype: int64"
            ]
          },
          "execution_count": 27,
          "metadata": {},
          "output_type": "execute_result"
        }
      ],
      "source": [
        "filename1_df.value_counts()"
      ]
    },
    {
      "cell_type": "code",
      "execution_count": null,
      "metadata": {
        "id": "8oNmaq-gZ0nd",
        "outputId": "453d0b62-2b14-4838-c6fa-e991286cbacc"
      },
      "outputs": [
        {
          "data": {
            "text/plain": [
              "Product code  Bureau of Meteorology station number  Year  Month  Day  Rainfall amount (millimetres)  Period over which rainfall was measured (days)  Quality\n",
              "IDCJAC0009    40913                                 2020  1      1    0.4                            1.0                                             N          1\n",
              "                                                          9      2    0.0                            1.0                                             N          1\n",
              "                                                                 10   0.0                            1.0                                             N          1\n",
              "                                                                 9    0.0                            1.0                                             N          1\n",
              "                                                                 8    0.2                            1.0                                             N          1\n",
              "                                                                                                                                                               ..\n",
              "                                                          5      7    0.0                            1.0                                             N          1\n",
              "                                                                 6    0.0                            1.0                                             N          1\n",
              "                                                                 5    0.0                            1.0                                             N          1\n",
              "                                                                 4    0.0                            1.0                                             N          1\n",
              "                                                          12     31   2.8                            1.0                                             N          1\n",
              "Length: 350, dtype: int64"
            ]
          },
          "execution_count": 28,
          "metadata": {},
          "output_type": "execute_result"
        }
      ],
      "source": [
        "filename2_df.value_counts()\n"
      ]
    },
    {
      "cell_type": "code",
      "execution_count": null,
      "metadata": {
        "id": "7nZgE84wZ0nd",
        "outputId": "0e8c36b8-fdc5-476b-b879-308d5b22706e"
      },
      "outputs": [
        {
          "data": {
            "text/plain": [
              "Product code  Bureau of Meteorology station number  Year  Month  Day  Rainfall amount (millimetres)  Period over which rainfall was measured (days)  Quality\n",
              "IDCJAC0009    40913                                 2021  1      1    2.4                            1.0                                             N          1\n",
              "                                                          8      22   0.0                            1.0                                             N          1\n",
              "                                                          9      1    0.0                            1.0                                             N          1\n",
              "                                                          8      31   0.0                            1.0                                             N          1\n",
              "                                                                 30   0.0                            1.0                                             N          1\n",
              "                                                                                                                                                               ..\n",
              "                                                          4      26   0.0                            1.0                                             N          1\n",
              "                                                                 25   0.0                            1.0                                             N          1\n",
              "                                                                 24   0.0                            1.0                                             N          1\n",
              "                                                                 23   0.0                            1.0                                             N          1\n",
              "                                                          12     31   0.0                            1.0                                             N          1\n",
              "Length: 351, dtype: int64"
            ]
          },
          "execution_count": 29,
          "metadata": {},
          "output_type": "execute_result"
        }
      ],
      "source": [
        "filename3_df.value_counts()\n"
      ]
    },
    {
      "cell_type": "code",
      "execution_count": null,
      "metadata": {
        "id": "cgk1WGqLZ0nd",
        "outputId": "22fce35f-8181-46cc-e078-5ddf238fe9de"
      },
      "outputs": [
        {
          "data": {
            "text/plain": [
              "Product code  Bureau of Meteorology station number  Year  Month  Day  Rainfall amount (millimetres)  Period over which rainfall was measured (days)  Quality\n",
              "IDCJAC0009    66006                                 2019  1      1    9.4                            1.0                                             N          1\n",
              "                                                          7      6    2.4                            1.0                                             Y          1\n",
              "                                                          8      29   0.8                            1.0                                             N          1\n",
              "                                                                 28   0.4                            1.0                                             N          1\n",
              "                                                                 27   13.8                           1.0                                             N          1\n",
              "                                                                                                                                                               ..\n",
              "                                                          3      20   11.5                           1.0                                             N          1\n",
              "                                                                 19   8.2                            1.0                                             N          1\n",
              "                                                                 18   79.0                           1.0                                             N          1\n",
              "                                                                 17   41.2                           1.0                                             N          1\n",
              "                                                          12     25   1.0                            1.0                                             Y          1\n",
              "Length: 119, dtype: int64"
            ]
          },
          "execution_count": 30,
          "metadata": {},
          "output_type": "execute_result"
        }
      ],
      "source": [
        "filename4_df.value_counts()\n"
      ]
    },
    {
      "cell_type": "code",
      "execution_count": null,
      "metadata": {
        "id": "bMfouMfBZ0nd",
        "outputId": "5ea3815a-6e56-45dc-fc9a-6c9f5a30b6c6"
      },
      "outputs": [
        {
          "data": {
            "text/plain": [
              "Product code  Bureau of Meteorology station number  Year  Month  Day  Rainfall amount (millimetres)  Period over which rainfall was measured (days)  Quality\n",
              "IDCJAC0009    66006                                 2020  1      2    0.2                            1.0                                             Y          1\n",
              "                                                          8      15   4.4                            1.0                                             Y          1\n",
              "                                                          7      28   50.0                           1.0                                             Y          1\n",
              "                                                                 29   2.2                            1.0                                             Y          1\n",
              "                                                          8      8    18.2                           1.0                                             Y          1\n",
              "                                                                                                                                                               ..\n",
              "                                                          4      11   4.2                            1.0                                             Y          1\n",
              "                                                                 28   0.4                            1.0                                             Y          1\n",
              "                                                                 29   2.2                            1.0                                             Y          1\n",
              "                                                                 30   0.2                            1.0                                             Y          1\n",
              "                                                          12     31   5.0                            1.0                                             N          1\n",
              "Length: 171, dtype: int64"
            ]
          },
          "execution_count": 31,
          "metadata": {},
          "output_type": "execute_result"
        }
      ],
      "source": [
        "filename5_df.value_counts()"
      ]
    },
    {
      "cell_type": "code",
      "execution_count": null,
      "metadata": {
        "id": "i9Dqd4z-Z0ne",
        "outputId": "b2e2a4f3-acc9-4b5f-990b-b92591a05587"
      },
      "outputs": [
        {
          "data": {
            "text/plain": [
              "Product code  Bureau of Meteorology station number  Year  Month  Day  Rainfall amount (millimetres)  Period over which rainfall was measured (days)  Quality\n",
              "IDCJAC0009    66006                                 2021  1      1    4.1                            1.0                                             N          1\n",
              "                                                          9      30   2.8                            1.0                                             N          1\n",
              "                                                                 14   18.6                           1.0                                             N          1\n",
              "                                                                 15   5.0                            1.0                                             N          1\n",
              "                                                                 16   0.2                            1.0                                             N          1\n",
              "                                                                                                                                                               ..\n",
              "                                                          4      2    0.2                            1.0                                             Y          1\n",
              "                                                                 6    1.4                            1.0                                             Y          1\n",
              "                                                                 7    1.0                            1.0                                             Y          1\n",
              "                                                                 8    5.2                            1.0                                             Y          1\n",
              "                                                          12     30   9.2                            1.0                                             N          1\n",
              "Length: 156, dtype: int64"
            ]
          },
          "execution_count": 32,
          "metadata": {},
          "output_type": "execute_result"
        }
      ],
      "source": [
        "filename6_df.value_counts()\n"
      ]
    },
    {
      "cell_type": "code",
      "execution_count": null,
      "metadata": {
        "id": "-HDeVdIyZ0ne",
        "outputId": "bd93c066-44f8-4ebb-a5fb-65e4a8483466"
      },
      "outputs": [
        {
          "data": {
            "text/html": [
              "<div>\n",
              "<style scoped>\n",
              "    .dataframe tbody tr th:only-of-type {\n",
              "        vertical-align: middle;\n",
              "    }\n",
              "\n",
              "    .dataframe tbody tr th {\n",
              "        vertical-align: top;\n",
              "    }\n",
              "\n",
              "    .dataframe thead th {\n",
              "        text-align: right;\n",
              "    }\n",
              "</style>\n",
              "<table border=\"1\" class=\"dataframe\">\n",
              "  <thead>\n",
              "    <tr style=\"text-align: right;\">\n",
              "      <th></th>\n",
              "      <th>0</th>\n",
              "      <th>1</th>\n",
              "      <th>2</th>\n",
              "      <th>3</th>\n",
              "      <th>4</th>\n",
              "      <th>5</th>\n",
              "      <th>6</th>\n",
              "      <th>7</th>\n",
              "      <th>8</th>\n",
              "      <th>9</th>\n",
              "      <th>10</th>\n",
              "      <th>11</th>\n",
              "    </tr>\n",
              "  </thead>\n",
              "  <tbody>\n",
              "    <tr>\n",
              "      <th>count</th>\n",
              "      <td>3.00000</td>\n",
              "      <td>3.000000</td>\n",
              "      <td>3.000000</td>\n",
              "      <td>3.000000</td>\n",
              "      <td>3.000000</td>\n",
              "      <td>3.000000</td>\n",
              "      <td>3.000000</td>\n",
              "      <td>3.000000</td>\n",
              "      <td>3.000000</td>\n",
              "      <td>3.000000</td>\n",
              "      <td>3.000000</td>\n",
              "      <td>3.000000</td>\n",
              "    </tr>\n",
              "    <tr>\n",
              "      <th>mean</th>\n",
              "      <td>73.20000</td>\n",
              "      <td>225.900000</td>\n",
              "      <td>295.000000</td>\n",
              "      <td>19.266667</td>\n",
              "      <td>74.866667</td>\n",
              "      <td>117.100000</td>\n",
              "      <td>89.800000</td>\n",
              "      <td>82.300000</td>\n",
              "      <td>66.400000</td>\n",
              "      <td>64.766667</td>\n",
              "      <td>78.433333</td>\n",
              "      <td>96.233333</td>\n",
              "    </tr>\n",
              "    <tr>\n",
              "      <th>std</th>\n",
              "      <td>24.13483</td>\n",
              "      <td>210.728237</td>\n",
              "      <td>144.715825</td>\n",
              "      <td>13.851113</td>\n",
              "      <td>65.393450</td>\n",
              "      <td>57.443799</td>\n",
              "      <td>78.698094</td>\n",
              "      <td>13.423487</td>\n",
              "      <td>42.219901</td>\n",
              "      <td>31.338847</td>\n",
              "      <td>56.371476</td>\n",
              "      <td>84.083847</td>\n",
              "    </tr>\n",
              "    <tr>\n",
              "      <th>min</th>\n",
              "      <td>54.70000</td>\n",
              "      <td>85.400000</td>\n",
              "      <td>179.100000</td>\n",
              "      <td>8.200000</td>\n",
              "      <td>15.400000</td>\n",
              "      <td>80.400000</td>\n",
              "      <td>39.600000</td>\n",
              "      <td>67.000000</td>\n",
              "      <td>34.200000</td>\n",
              "      <td>35.600000</td>\n",
              "      <td>27.000000</td>\n",
              "      <td>1.900000</td>\n",
              "    </tr>\n",
              "    <tr>\n",
              "      <th>25%</th>\n",
              "      <td>59.55000</td>\n",
              "      <td>104.750000</td>\n",
              "      <td>213.900000</td>\n",
              "      <td>11.500000</td>\n",
              "      <td>39.850000</td>\n",
              "      <td>84.000000</td>\n",
              "      <td>44.450000</td>\n",
              "      <td>77.400000</td>\n",
              "      <td>42.500000</td>\n",
              "      <td>48.200000</td>\n",
              "      <td>48.300000</td>\n",
              "      <td>62.700000</td>\n",
              "    </tr>\n",
              "    <tr>\n",
              "      <th>50%</th>\n",
              "      <td>64.40000</td>\n",
              "      <td>124.100000</td>\n",
              "      <td>248.700000</td>\n",
              "      <td>14.800000</td>\n",
              "      <td>64.300000</td>\n",
              "      <td>87.600000</td>\n",
              "      <td>49.300000</td>\n",
              "      <td>87.800000</td>\n",
              "      <td>50.800000</td>\n",
              "      <td>60.800000</td>\n",
              "      <td>69.600000</td>\n",
              "      <td>123.500000</td>\n",
              "    </tr>\n",
              "    <tr>\n",
              "      <th>75%</th>\n",
              "      <td>82.45000</td>\n",
              "      <td>296.150000</td>\n",
              "      <td>352.950000</td>\n",
              "      <td>24.800000</td>\n",
              "      <td>104.600000</td>\n",
              "      <td>135.450000</td>\n",
              "      <td>114.900000</td>\n",
              "      <td>89.950000</td>\n",
              "      <td>82.500000</td>\n",
              "      <td>79.350000</td>\n",
              "      <td>104.150000</td>\n",
              "      <td>143.400000</td>\n",
              "    </tr>\n",
              "    <tr>\n",
              "      <th>max</th>\n",
              "      <td>100.50000</td>\n",
              "      <td>468.200000</td>\n",
              "      <td>457.200000</td>\n",
              "      <td>34.800000</td>\n",
              "      <td>144.900000</td>\n",
              "      <td>183.300000</td>\n",
              "      <td>180.500000</td>\n",
              "      <td>92.100000</td>\n",
              "      <td>114.200000</td>\n",
              "      <td>97.900000</td>\n",
              "      <td>138.700000</td>\n",
              "      <td>163.300000</td>\n",
              "    </tr>\n",
              "  </tbody>\n",
              "</table>\n",
              "</div>"
            ],
            "text/plain": [
              "              0           1           2          3           4           5   \\\n",
              "count    3.00000    3.000000    3.000000   3.000000    3.000000    3.000000   \n",
              "mean    73.20000  225.900000  295.000000  19.266667   74.866667  117.100000   \n",
              "std     24.13483  210.728237  144.715825  13.851113   65.393450   57.443799   \n",
              "min     54.70000   85.400000  179.100000   8.200000   15.400000   80.400000   \n",
              "25%     59.55000  104.750000  213.900000  11.500000   39.850000   84.000000   \n",
              "50%     64.40000  124.100000  248.700000  14.800000   64.300000   87.600000   \n",
              "75%     82.45000  296.150000  352.950000  24.800000  104.600000  135.450000   \n",
              "max    100.50000  468.200000  457.200000  34.800000  144.900000  183.300000   \n",
              "\n",
              "               6          7           8          9           10          11  \n",
              "count    3.000000   3.000000    3.000000   3.000000    3.000000    3.000000  \n",
              "mean    89.800000  82.300000   66.400000  64.766667   78.433333   96.233333  \n",
              "std     78.698094  13.423487   42.219901  31.338847   56.371476   84.083847  \n",
              "min     39.600000  67.000000   34.200000  35.600000   27.000000    1.900000  \n",
              "25%     44.450000  77.400000   42.500000  48.200000   48.300000   62.700000  \n",
              "50%     49.300000  87.800000   50.800000  60.800000   69.600000  123.500000  \n",
              "75%    114.900000  89.950000   82.500000  79.350000  104.150000  143.400000  \n",
              "max    180.500000  92.100000  114.200000  97.900000  138.700000  163.300000  "
            ]
          },
          "execution_count": 33,
          "metadata": {},
          "output_type": "execute_result"
        }
      ],
      "source": [
        "df.describe()"
      ]
    },
    {
      "cell_type": "code",
      "execution_count": null,
      "metadata": {
        "id": "jj4O9FzGZ0ne",
        "outputId": "acde2cfc-8ed4-4e9c-c3ea-5f5215393f49"
      },
      "outputs": [
        {
          "ename": "AttributeError",
          "evalue": "'DataFrame' object has no attribute 'summary'",
          "output_type": "error",
          "traceback": [
            "\u001b[0;31m---------------------------------------------------------------------------\u001b[0m",
            "\u001b[0;31mAttributeError\u001b[0m                            Traceback (most recent call last)",
            "Input \u001b[0;32mIn [95]\u001b[0m, in \u001b[0;36m<cell line: 1>\u001b[0;34m()\u001b[0m\n\u001b[0;32m----> 1\u001b[0m \u001b[43mdf\u001b[49m\u001b[38;5;241;43m.\u001b[39;49m\u001b[43msummary\u001b[49m()\n",
            "File \u001b[0;32m/opt/conda/lib/python3.9/site-packages/pandas/core/generic.py:5583\u001b[0m, in \u001b[0;36mNDFrame.__getattr__\u001b[0;34m(self, name)\u001b[0m\n\u001b[1;32m   5576\u001b[0m \u001b[38;5;28;01mif\u001b[39;00m (\n\u001b[1;32m   5577\u001b[0m     name \u001b[38;5;129;01mnot\u001b[39;00m \u001b[38;5;129;01min\u001b[39;00m \u001b[38;5;28mself\u001b[39m\u001b[38;5;241m.\u001b[39m_internal_names_set\n\u001b[1;32m   5578\u001b[0m     \u001b[38;5;129;01mand\u001b[39;00m name \u001b[38;5;129;01mnot\u001b[39;00m \u001b[38;5;129;01min\u001b[39;00m \u001b[38;5;28mself\u001b[39m\u001b[38;5;241m.\u001b[39m_metadata\n\u001b[1;32m   5579\u001b[0m     \u001b[38;5;129;01mand\u001b[39;00m name \u001b[38;5;129;01mnot\u001b[39;00m \u001b[38;5;129;01min\u001b[39;00m \u001b[38;5;28mself\u001b[39m\u001b[38;5;241m.\u001b[39m_accessors\n\u001b[1;32m   5580\u001b[0m     \u001b[38;5;129;01mand\u001b[39;00m \u001b[38;5;28mself\u001b[39m\u001b[38;5;241m.\u001b[39m_info_axis\u001b[38;5;241m.\u001b[39m_can_hold_identifiers_and_holds_name(name)\n\u001b[1;32m   5581\u001b[0m ):\n\u001b[1;32m   5582\u001b[0m     \u001b[38;5;28;01mreturn\u001b[39;00m \u001b[38;5;28mself\u001b[39m[name]\n\u001b[0;32m-> 5583\u001b[0m \u001b[38;5;28;01mreturn\u001b[39;00m \u001b[38;5;28;43mobject\u001b[39;49m\u001b[38;5;241;43m.\u001b[39;49m\u001b[38;5;21;43m__getattribute__\u001b[39;49m\u001b[43m(\u001b[49m\u001b[38;5;28;43mself\u001b[39;49m\u001b[43m,\u001b[49m\u001b[43m \u001b[49m\u001b[43mname\u001b[49m\u001b[43m)\u001b[49m\n",
            "\u001b[0;31mAttributeError\u001b[0m: 'DataFrame' object has no attribute 'summary'"
          ]
        }
      ],
      "source": [
        ""
      ]
    },
    {
      "cell_type": "code",
      "execution_count": null,
      "metadata": {
        "id": "CF396BIYZ0nf",
        "outputId": "3abc8f1f-0411-4eee-80be-e97403accded"
      },
      "outputs": [
        {
          "data": {
            "text/plain": [
              "0     5645.812424\n",
              "1    13930.573561\n",
              "2    13375.139015\n",
              "dtype: float64"
            ]
          },
          "execution_count": 34,
          "metadata": {},
          "output_type": "execute_result"
        }
      ],
      "source": [
        "df.var(axis=1)"
      ]
    },
    {
      "cell_type": "code",
      "execution_count": null,
      "metadata": {
        "id": "iamz8pwhZ0nf"
      },
      "outputs": [],
      "source": [
        "import seaborn as sns\n"
      ]
    },
    {
      "cell_type": "code",
      "execution_count": null,
      "metadata": {
        "id": "vLN1BQX_Z0nf",
        "outputId": "6994507e-952a-4bf6-dacc-fd9f0199419f"
      },
      "outputs": [
        {
          "data": {
            "text/plain": [
              "<AxesSubplot:>"
            ]
          },
          "execution_count": 36,
          "metadata": {},
          "output_type": "execute_result"
        },
        {
          "data": {
            "image/png": "[encoded data removed]",
            "text/plain": [
              "<Figure size 432x288 with 2 Axes>"
            ]
          },
          "metadata": {
            "needs_background": "light"
          },
          "output_type": "display_data"
        }
      ],
      "source": [
        "sns.heatmap(df.corr())"
      ]
    },
    {
      "cell_type": "code",
      "execution_count": null,
      "metadata": {
        "id": "fJDC6eGYZ0nf",
        "outputId": "8fc8adf2-29d0-4877-ff32-cb9fcad8019c"
      },
      "outputs": [
        {
          "ename": "ValueError",
          "evalue": "method must be either 'pearson', 'spearman', 'kendall', or a callable, 'filename1_df' was supplied",
          "output_type": "error",
          "traceback": [
            "\u001b[0;31m---------------------------------------------------------------------------\u001b[0m",
            "\u001b[0;31mValueError\u001b[0m                                Traceback (most recent call last)",
            "Input \u001b[0;32mIn [37]\u001b[0m, in \u001b[0;36m<cell line: 1>\u001b[0;34m()\u001b[0m\n\u001b[0;32m----> 1\u001b[0m correlation_matrix \u001b[38;5;241m=\u001b[39m \u001b[43mfilename1_df\u001b[49m\u001b[38;5;241;43m.\u001b[39;49m\u001b[43mcorr\u001b[49m\u001b[43m(\u001b[49m\u001b[38;5;124;43m'\u001b[39;49m\u001b[38;5;124;43mfilename1_df\u001b[39;49m\u001b[38;5;124;43m'\u001b[39;49m\u001b[43m)\u001b[49m;\n\u001b[1;32m      2\u001b[0m correlation_matrix\n",
            "File \u001b[0;32m/opt/conda/lib/python3.9/site-packages/pandas/core/frame.py:9556\u001b[0m, in \u001b[0;36mDataFrame.corr\u001b[0;34m(self, method, min_periods)\u001b[0m\n\u001b[1;32m   9554\u001b[0m             correl[j, i] \u001b[38;5;241m=\u001b[39m c\n\u001b[1;32m   9555\u001b[0m \u001b[38;5;28;01melse\u001b[39;00m:\n\u001b[0;32m-> 9556\u001b[0m     \u001b[38;5;28;01mraise\u001b[39;00m \u001b[38;5;167;01mValueError\u001b[39;00m(\n\u001b[1;32m   9557\u001b[0m         \u001b[38;5;124m\"\u001b[39m\u001b[38;5;124mmethod must be either \u001b[39m\u001b[38;5;124m'\u001b[39m\u001b[38;5;124mpearson\u001b[39m\u001b[38;5;124m'\u001b[39m\u001b[38;5;124m, \u001b[39m\u001b[38;5;124m\"\u001b[39m\n\u001b[1;32m   9558\u001b[0m         \u001b[38;5;124m\"\u001b[39m\u001b[38;5;124m'\u001b[39m\u001b[38;5;124mspearman\u001b[39m\u001b[38;5;124m'\u001b[39m\u001b[38;5;124m, \u001b[39m\u001b[38;5;124m'\u001b[39m\u001b[38;5;124mkendall\u001b[39m\u001b[38;5;124m'\u001b[39m\u001b[38;5;124m, or a callable, \u001b[39m\u001b[38;5;124m\"\u001b[39m\n\u001b[1;32m   9559\u001b[0m         \u001b[38;5;124mf\u001b[39m\u001b[38;5;124m\"\u001b[39m\u001b[38;5;124m'\u001b[39m\u001b[38;5;132;01m{\u001b[39;00mmethod\u001b[38;5;132;01m}\u001b[39;00m\u001b[38;5;124m'\u001b[39m\u001b[38;5;124m was supplied\u001b[39m\u001b[38;5;124m\"\u001b[39m\n\u001b[1;32m   9560\u001b[0m     )\n\u001b[1;32m   9562\u001b[0m \u001b[38;5;28;01mreturn\u001b[39;00m \u001b[38;5;28mself\u001b[39m\u001b[38;5;241m.\u001b[39m_constructor(correl, index\u001b[38;5;241m=\u001b[39midx, columns\u001b[38;5;241m=\u001b[39mcols)\n",
            "\u001b[0;31mValueError\u001b[0m: method must be either 'pearson', 'spearman', 'kendall', or a callable, 'filename1_df' was supplied"
          ]
        }
      ],
      "source": [
        "correlation_matrix = filename1_df.corr('filename1_df');\n",
        "correlation_matrix"
      ]
    },
    {
      "cell_type": "code",
      "execution_count": null,
      "metadata": {
        "id": "ZqIqho8BZ0ng"
      },
      "outputs": [],
      "source": [
        "correlation = df[\"sepal length (cm)\"].corr(df[\"petal length (cm)\"])\n",
        "\n",
        "correlation "
      ]
    },
    {
      "cell_type": "code",
      "execution_count": null,
      "metadata": {
        "id": "kxdua7LEZ0ng"
      },
      "outputs": [],
      "source": [
        ""
      ]
    },
    {
      "cell_type": "code",
      "execution_count": null,
      "metadata": {
        "id": "03pz3dXTZ0ng"
      },
      "outputs": [],
      "source": [
        "# Analyse the data - ensure that you at least use the required technique\n",
        "total_rainfall=([Rainfallamount_2019+Rainfallamount_2020+Rainfallamount_2021])\n",
        "total_rainfall\n",
        "\n",
        "\n"
      ]
    },
    {
      "cell_type": "code",
      "execution_count": null,
      "metadata": {
        "id": "7GO_kAdBZ0ng"
      },
      "outputs": [],
      "source": [
        "#rainfall in sydeny over fortnight in January month"
      ]
    },
    {
      "cell_type": "code",
      "execution_count": null,
      "metadata": {
        "id": "Ta0vH_skZ0ng"
      },
      "outputs": [],
      "source": [
        "# Analyse the data - ensure that you at least use the required technique\n",
        "total_rainfall=([Rainfallamount_sy_2019+Rainfallamount_sy_2020+Rainfallamount_sy_2021])\n",
        "total_rainfall\n"
      ]
    },
    {
      "cell_type": "code",
      "execution_count": null,
      "metadata": {
        "id": "To1Qh37hZ0ng"
      },
      "outputs": [],
      "source": [
        "## Monthly analysis of rainfall"
      ]
    },
    {
      "cell_type": "code",
      "execution_count": null,
      "metadata": {
        "id": "XlAeInt6Z0nh"
      },
      "outputs": [],
      "source": [
        "# Import the data\n",
        "filenameA_df = pd.read_csv('IDCJAC0009_040913_2019_Data.csv')\n",
        "#displaying amount of rainfall for firt 14 days for year 2019\n",
        "filenameA_df"
      ]
    },
    {
      "cell_type": "code",
      "execution_count": null,
      "metadata": {
        "id": "GEF6gQwkZ0nh"
      },
      "outputs": [],
      "source": [
        "# Import the data\n",
        "filenameB_df = pd.read_csv('IDCJAC0009_040913_2019_Data.csv')\n",
        "#displaying amount of rainfall for firt 14 days for year 2019\n",
        "filenameB_df"
      ]
    },
    {
      "cell_type": "code",
      "execution_count": null,
      "metadata": {
        "id": "T91v1C_eZ0nh"
      },
      "outputs": [],
      "source": [
        "# Import the data\n",
        "filenameC_df = pd.read_csv('IDCJAC0009_040913_2019_Data.csv')\n",
        "#displaying amount of rainfall for firt 14 days for year 2019\n",
        "filenameC_df"
      ]
    },
    {
      "cell_type": "code",
      "execution_count": null,
      "metadata": {
        "id": "7tmS7wcJZ0nh"
      },
      "outputs": [],
      "source": [
        ""
      ]
    },
    {
      "cell_type": "code",
      "execution_count": null,
      "metadata": {
        "id": "nG8vjG7DZ0ni"
      },
      "outputs": [],
      "source": [
        ""
      ]
    },
    {
      "cell_type": "markdown",
      "metadata": {
        "id": "W15objc_Z0ni"
      },
      "source": [
        "### 1.4 Visualisation"
      ]
    },
    {
      "cell_type": "code",
      "execution_count": null,
      "metadata": {
        "id": "cOpcB3FHZ0ni"
      },
      "outputs": [],
      "source": [
        "import matplotlib.pyplot as plt\n"
      ]
    },
    {
      "cell_type": "code",
      "execution_count": null,
      "metadata": {
        "id": "jYmkIvqoZ0ni",
        "outputId": "3ef42093-1276-4776-e4d6-2ceaad7f87a8"
      },
      "outputs": [
        {
          "data": {
            "text/plain": [
              "[<matplotlib.lines.Line2D at 0x7fe3fe2b5130>]"
            ]
          },
          "execution_count": 92,
          "metadata": {},
          "output_type": "execute_result"
        },
        {
          "data": {
            "image/png": "[encoded data removed]",
            "text/plain": [
              "<Figure size 432x288 with 1 Axes>"
            ]
          },
          "metadata": {
            "needs_background": "light"
          },
          "output_type": "display_data"
        }
      ],
      "source": [
        "# Visualise the results\n",
        "plt.plot(Rainfallamount_2019,'g-',label=\"Brisbane 2019\")\n",
        "plt.plot(Rainfallamount_2020,'o-',label=\"Brisbane 2020\")\n",
        "plt.plot(Rainfallamount_2021,'c-',label=\"Brisbane 2021\")\n",
        "# Create legend.\n",
        "plt.legend(loc='upper right')\n",
        "plt.xlabel(\"Month\")\n",
        "plt.ylabel(\"Rainfall in mm\")\n",
        "\n",
        "\n",
        "plt.plot(Rainfallamount_2019)\n",
        "plt.plot(Rainfallamount_2020)\n",
        "plt.plot(Rainfallamount_2021)"
      ]
    },
    {
      "cell_type": "code",
      "execution_count": null,
      "metadata": {
        "id": "oPjI8VAuZ0ni"
      },
      "outputs": [],
      "source": [
        "plt.plot(Rainfallamount_2019,'g-',label=\"Brisbane 2019\")\n",
        "plt.plot(Rainfallamount_2020,'o-',label=\"Brisbane 2020\")"
      ]
    },
    {
      "cell_type": "code",
      "execution_count": null,
      "metadata": {
        "id": "ikVh9KD1Z0nj"
      },
      "outputs": [],
      "source": [
        ""
      ]
    },
    {
      "cell_type": "code",
      "execution_count": null,
      "metadata": {
        "id": "yPJXo0xuZ0nj"
      },
      "outputs": [],
      "source": [
        "\n"
      ]
    },
    {
      "cell_type": "code",
      "execution_count": null,
      "metadata": {
        "id": "Hd0J4Qi3Z0nj"
      },
      "outputs": [],
      "source": [
        "## Comparing Brisbane rainfall with Sydney rainfall for January Fortnight for last 3 years."
      ]
    },
    {
      "cell_type": "code",
      "execution_count": null,
      "metadata": {
        "id": "TnlUzjAzZ0nj"
      },
      "outputs": [],
      "source": [
        "plt.plot(Rainfallamount_sy_2019,'g-',label=\"Sydney 2019\")\n",
        "plt.plot(Rainfallamount_sy_2020,'o-',label=\"Sydney 2020\")\n",
        "plt.plot(Rainfallamount_sy_2021,'c-',label=\"Sydney 2021\")\n",
        "# Create legend.\n",
        "plt.legend(loc='upper right')\n",
        "plt.xlabel(\"Month\")\n",
        "plt.ylabel(\"Rainfall in mm\")\n",
        "\n",
        "\n",
        "plt.plot(Rainfallamount_sy_2019)\n",
        "plt.plot(Rainfallamount_sy_2020)\n",
        "plt.plot(Rainfallamount_sy_2021)"
      ]
    },
    {
      "cell_type": "code",
      "execution_count": null,
      "metadata": {
        "id": "yL6aHiOOZ0nj"
      },
      "outputs": [],
      "source": [
        "\n",
        "import seaborn as sns\n",
        "\n"
      ]
    },
    {
      "cell_type": "code",
      "execution_count": null,
      "metadata": {
        "id": "j86RUQV1Z0nj"
      },
      "outputs": [],
      "source": [
        "sns.heatmap(df.corr())"
      ]
    },
    {
      "cell_type": "code",
      "execution_count": null,
      "metadata": {
        "id": "cOaG_CN4Z0nk"
      },
      "outputs": [],
      "source": [
        ""
      ]
    },
    {
      "cell_type": "code",
      "execution_count": null,
      "metadata": {
        "id": "Bqirydz4Z0nk"
      },
      "outputs": [],
      "source": [
        "\n"
      ]
    },
    {
      "cell_type": "code",
      "execution_count": null,
      "metadata": {
        "id": "N09YsYDVZ0nk"
      },
      "outputs": [],
      "source": [
        "plt.plot(Rainfallamount_2019,'g-',label=\"Brisbane 2019\")\n",
        "plt.plot(Rainfallamount_sy_2019,'c-',label=\"Sydney 2019\")\n",
        "plt.legend(loc='upper right')\n",
        "plt.xlabel(\"Month\")\n",
        "plt.ylabel(\"Rainfall in mm\")\n",
        "\n",
        "\n",
        "plt.plot(Rainfallamount_2019)"
      ]
    },
    {
      "cell_type": "code",
      "execution_count": null,
      "metadata": {
        "id": "_1UFSSKXZ0nk"
      },
      "outputs": [],
      "source": [
        "\n",
        "plt.plot(Rainfallamount_2020,'b-',label=\"Brisbane 2020\")\n",
        "plt.plot(Rainfallamount_sy_2020,'r-',label=\"Sydney 2020\")\n",
        "plt.legend(loc='upper right')\n",
        "plt.xlabel(\"Day\")\n",
        "plt.ylabel(\"Rainfall in mm\")\n",
        "plt.plot(Rainfallamount_sy_2020)\n"
      ]
    },
    {
      "cell_type": "code",
      "execution_count": null,
      "metadata": {
        "id": "YJheSAizZ0nk"
      },
      "outputs": [],
      "source": [
        "\n",
        "plt.plot(Rainfallamount_2021,'g-',label=\"Brisbane 2021\")\n",
        "plt.plot(Rainfallamount_sy_2021,'c-',label=\"Sydney 2021\")\n",
        "plt.legend(loc='upper right')\n",
        "plt.xlabel(\"Day\")\n",
        "plt.ylabel(\"Rainfall in mm\")\n",
        "plt.plot(Rainfallamount_sy_2021)"
      ]
    },
    {
      "cell_type": "code",
      "execution_count": null,
      "metadata": {
        "id": "9l-nZ4cJZ0nl"
      },
      "outputs": [],
      "source": [
        "plt.plot(Rainfallamount_2019,'g-',label=\"Brisbane 2019\")\n",
        "plt.plot(Rainfallamount_sy_2019,'c-',label=\"Sydney 2019\")\n",
        "plt.legend(loc='upper right')\n",
        "plt.xlabel(\"Month\")\n",
        "plt.ylabel(\"Rainfall in mm\")\n",
        "\n",
        "\n",
        "plt.plot(Rainfallamount_2019)"
      ]
    },
    {
      "cell_type": "code",
      "execution_count": null,
      "metadata": {
        "id": "EGdcSTxGZ0nl"
      },
      "outputs": [],
      "source": [
        "plt.plot(Rainfallamount_2019,'g-',label=\"Brisbane 2019\")\n",
        "plt.plot(Rainfallamount_sy_2019,'c-',label=\"Sydney 2019\")\n",
        "plt.legend(loc='upper right')\n",
        "plt.xlabel(\"Month\")\n",
        "plt.ylabel(\"Rainfall in mm\")\n",
        "\n",
        "\n",
        "plt.plot(Rainfallamount_2019)"
      ]
    },
    {
      "cell_type": "code",
      "execution_count": null,
      "metadata": {
        "id": "1ltsoHH5Z0nl",
        "outputId": "10752f9c-5cf9-465d-a242-745e1193326a"
      },
      "outputs": [
        {
          "data": {
            "text/plain": [
              "[<matplotlib.lines.Line2D at 0x7fe40b88bc70>]"
            ]
          },
          "execution_count": 54,
          "metadata": {},
          "output_type": "execute_result"
        },
        {
          "data": {
            "image/png": "[encoded data removed]",
            "text/plain": [
              "<Figure size 432x288 with 1 Axes>"
            ]
          },
          "metadata": {
            "needs_background": "light"
          },
          "output_type": "display_data"
        }
      ],
      "source": [
        "plt.plot(Bne_df.mean())"
      ]
    },
    {
      "cell_type": "code",
      "execution_count": null,
      "metadata": {
        "id": "LnsqYh_2Z0nl"
      },
      "outputs": [],
      "source": [
        "# mean rainfall for "
      ]
    },
    {
      "cell_type": "code",
      "execution_count": null,
      "metadata": {
        "id": "QQ1YQXzkZ0nl",
        "outputId": "e7e07927-4f85-4e0d-e514-1edfebcff73a"
      },
      "outputs": [
        {
          "data": {
            "text/plain": [
              "[<matplotlib.lines.Line2D at 0x7fe3fe2ebca0>]"
            ]
          },
          "execution_count": 77,
          "metadata": {},
          "output_type": "execute_result"
        },
        {
          "data": {
            "image/png": "[encoded data removed]",
            "text/plain": [
              "<Figure size 432x288 with 1 Axes>"
            ]
          },
          "metadata": {
            "needs_background": "light"
          },
          "output_type": "display_data"
        }
      ],
      "source": [
        "plt.plot(mean_2019_df.mean())\n",
        "plt.plot(mean_2020_df.mean())\n",
        "plt.plot(mean_2021_df.mean())"
      ]
    },
    {
      "cell_type": "code",
      "execution_count": null,
      "metadata": {
        "id": "7PkytqxLZ0nm",
        "outputId": "9995e209-2282-431f-a4f6-35d2aea17e51"
      },
      "outputs": [
        {
          "data": {
            "text/plain": [
              "[<matplotlib.lines.Line2D at 0x7fe3fe387370>]"
            ]
          },
          "execution_count": 76,
          "metadata": {},
          "output_type": "execute_result"
        },
        {
          "data": {
            "image/png": "[encoded data removed]",
            "text/plain": [
              "<Figure size 432x288 with 1 Axes>"
            ]
          },
          "metadata": {
            "needs_background": "light"
          },
          "output_type": "display_data"
        }
      ],
      "source": [
        "plt.plot(mean_2020_df.mean())"
      ]
    },
    {
      "cell_type": "code",
      "execution_count": null,
      "metadata": {
        "id": "f6tyIkP2Z0nm",
        "outputId": "185ef61e-fea9-424e-a338-18cc62df6719"
      },
      "outputs": [
        {
          "data": {
            "text/plain": [
              "[<matplotlib.lines.Line2D at 0x7fe3fe3ada90>]"
            ]
          },
          "execution_count": 75,
          "metadata": {},
          "output_type": "execute_result"
        },
        {
          "data": {
            "image/png": "[encoded data removed]",
            "text/plain": [
              "<Figure size 432x288 with 1 Axes>"
            ]
          },
          "metadata": {
            "needs_background": "light"
          },
          "output_type": "display_data"
        }
      ],
      "source": [
        "plt.plot(mean_2021_df.mean())"
      ]
    },
    {
      "cell_type": "code",
      "execution_count": null,
      "metadata": {
        "id": "UQL9KBszZ0nm"
      },
      "outputs": [],
      "source": [
        ""
      ]
    },
    {
      "cell_type": "code",
      "execution_count": null,
      "metadata": {
        "id": "IM_uImIGZ0nm"
      },
      "outputs": [],
      "source": [
        ""
      ]
    },
    {
      "cell_type": "code",
      "execution_count": null,
      "metadata": {
        "id": "sCViobwYZ0nm"
      },
      "outputs": [],
      "source": [
        "plt.plot(df.median())\n"
      ]
    },
    {
      "cell_type": "code",
      "execution_count": null,
      "metadata": {
        "id": "lZKzosEzZ0nn"
      },
      "outputs": [],
      "source": [
        "plt.plot(df.mode())"
      ]
    },
    {
      "cell_type": "code",
      "execution_count": null,
      "metadata": {
        "id": "bWkaxFzeZ0nn"
      },
      "outputs": [],
      "source": [
        "plt.plot(df.var())"
      ]
    },
    {
      "cell_type": "code",
      "execution_count": null,
      "metadata": {
        "id": "bp52r1PcZ0nn",
        "outputId": "24ba33ef-2efd-46bc-d88b-ee1adaf85208"
      },
      "outputs": [
        {
          "data": {
            "text/plain": [
              "[<matplotlib.lines.Line2D at 0x7fe3fe291e20>,\n",
              " <matplotlib.lines.Line2D at 0x7fe3fe291dc0>,\n",
              " <matplotlib.lines.Line2D at 0x7fe3fe291f70>,\n",
              " <matplotlib.lines.Line2D at 0x7fe3fe29d0d0>,\n",
              " <matplotlib.lines.Line2D at 0x7fe3fe285c40>,\n",
              " <matplotlib.lines.Line2D at 0x7fe3fe285c70>,\n",
              " <matplotlib.lines.Line2D at 0x7fe3fe29d310>,\n",
              " <matplotlib.lines.Line2D at 0x7fe3fe29d430>,\n",
              " <matplotlib.lines.Line2D at 0x7fe3fe29d550>,\n",
              " <matplotlib.lines.Line2D at 0x7fe3fe29d670>,\n",
              " <matplotlib.lines.Line2D at 0x7fe3fe291e50>,\n",
              " <matplotlib.lines.Line2D at 0x7fe3fe29d790>]"
            ]
          },
          "execution_count": 93,
          "metadata": {},
          "output_type": "execute_result"
        },
        {
          "data": {
            "image/png": "[encoded data removed]",
            "text/plain": [
              "<Figure size 432x288 with 1 Axes>"
            ]
          },
          "metadata": {
            "needs_background": "light"
          },
          "output_type": "display_data"
        }
      ],
      "source": [
        "plt.plot(df.describe())"
      ]
    },
    {
      "cell_type": "code",
      "execution_count": null,
      "metadata": {
        "id": "o3UC8WYtZ0nn"
      },
      "outputs": [],
      "source": [
        ""
      ]
    },
    {
      "cell_type": "code",
      "execution_count": null,
      "metadata": {
        "id": "dC-aE3faZ0nn"
      },
      "outputs": [],
      "source": [
        "plt.plot(df.count())"
      ]
    },
    {
      "cell_type": "code",
      "execution_count": null,
      "metadata": {
        "id": "muYrqnV0Z0no"
      },
      "outputs": [],
      "source": [
        "sns.scatterplot(filename2_df)"
      ]
    },
    {
      "cell_type": "code",
      "execution_count": null,
      "metadata": {
        "id": "C45zshnkZ0no"
      },
      "outputs": [],
      "source": [
        "filename1_df.unique"
      ]
    },
    {
      "cell_type": "markdown",
      "metadata": {
        "id": "pBgu7saqZ0no"
      },
      "source": [
        "### 1.5 Insight"
      ]
    },
    {
      "cell_type": "code",
      "execution_count": null,
      "metadata": {
        "id": "flt01XArZ0no"
      },
      "outputs": [],
      "source": [
        "## it can be clearly seen from the above two graphs that\n",
        "##Brisbane had heavy rainfall in first 4 days of January while Sydeny had maximum rainfall in 4 to 6\n",
        "##day range in the January forthnight. Rainfall was quite high in the year foor both cities in the year 2020\n",
        "##In 2021 the rainfall was high in the beginning days for Sydeny while for Brisbane it was in its second week.\n",
        "## Overall rainfall increased for 2nd week in Brisbane while in Sydney high rainfall is seen in the first week itself.\n",
        "## The farmers should sow seeds in first week of January for better produce in Brisbane QLD while in Sydney\n",
        "## they should sow seeds in second week of January for better produce."
      ]
    },
    {
      "cell_type": "markdown",
      "metadata": {
        "id": "zo-DZmzmZ0no"
      },
      "source": [
        "*## Your insights from the analysis. Ensure that you address the question ##*"
      ]
    },
    {
      "cell_type": "markdown",
      "metadata": {
        "id": "GI7vDq4AZ0np"
      },
      "source": [
        "---\n",
        "## QUESTION 2\n",
        "\n",
        "#### Question: \n",
        "Using *The Guardian* API, compare Australian and United Kingdom headlines about the war in Ukraine. What can we learn about differences and similarities between the news presented to Australia and the UK?\n",
        "\n",
        "#### Data:\n",
        "[The Guardian OpenPlatform](https://open-platform.theguardian.com/access/)\n"
      ]
    },
    {
      "cell_type": "code",
      "execution_count": null,
      "metadata": {
        "id": "2wxsEwv8Z0np"
      },
      "outputs": [],
      "source": [
        "# import libraries for this question here\n",
        "import requests\n",
        "import json"
      ]
    },
    {
      "cell_type": "markdown",
      "metadata": {
        "id": "C-ZILVVyZ0np"
      },
      "source": [
        "### 2.1 Question"
      ]
    },
    {
      "cell_type": "markdown",
      "metadata": {
        "id": "y3beeaIPZ0np"
      },
      "source": [
        "*## Your interpretation of the question here ##*"
      ]
    },
    {
      "cell_type": "markdown",
      "metadata": {
        "id": "T1jtet4JZ0np"
      },
      "source": [
        "### 2.2 Data"
      ]
    },
    {
      "cell_type": "code",
      "execution_count": null,
      "metadata": {
        "id": "TWWzxNYmZ0nq"
      },
      "outputs": [],
      "source": [
        "# Access the data via API\n",
        "with open('key.txt', 'r') as file:\n",
        "    key = file.read().strip()\n",
        "len(key)\n",
        "\n",
        "\n",
        "# Clean/prepare the data for analysis"
      ]
    },
    {
      "cell_type": "code",
      "execution_count": null,
      "metadata": {
        "id": "HOy7mVHyZ0nq"
      },
      "outputs": [],
      "source": [
        "### 2.3 Analysis\n",
        "# import required files\n",
        "import json\n",
        "import requests\n"
      ]
    },
    {
      "cell_type": "code",
      "execution_count": null,
      "metadata": {
        "id": "tq676RkjZ0nq"
      },
      "outputs": [],
      "source": [
        "# Analyse the data - ensure that you at least use the required technique\n",
        "baseUrl = 'https://content.guardianapis.com/search?q=ukraine%20war&api-key'\n",
        "searchString = \"news\"\n",
        "production_office = \"uk\"\n",
        "fromDate = \"2022-04-19\"\n",
        "\n",
        "url = baseUrl+'\"'+searchString+'\"'+'&production-office='+production_office+'&from-date='+fromDate+'&api-key='+key\n",
        "print(url[:100])\n"
      ]
    },
    {
      "cell_type": "code",
      "execution_count": null,
      "metadata": {
        "id": "atIscrhUZ0nq"
      },
      "outputs": [],
      "source": [
        "# get data from server for UK news headlines\n",
        "'https://content.guardianapis.com/search?q=ukraine%20war&api-key'\n",
        "response = requests.get(url)\n"
      ]
    },
    {
      "cell_type": "code",
      "execution_count": null,
      "metadata": {
        "id": "7p1XR8zsZ0nq"
      },
      "outputs": [],
      "source": [
        "response"
      ]
    },
    {
      "cell_type": "code",
      "execution_count": null,
      "metadata": {
        "id": "L2p9GNHyZ0nr"
      },
      "outputs": [],
      "source": [
        "response.content\n"
      ]
    },
    {
      "cell_type": "code",
      "execution_count": null,
      "metadata": {
        "id": "4fs3Qio7Z0nr"
      },
      "outputs": [],
      "source": [
        "import re\n",
        "text = \"\"\"\n",
        "*** Start ***\n",
        "2022.04.19 Battle for Donbas\n",
        "2022.04.19 Day 55 of invasion\n",
        "2022.04.19 Boris Jonson lockdown\n",
        "*** End ***\n",
        "\"\"\"\n",
        "# split into list of lines\n",
        "lines = text.split('\\n')\n",
        "\n",
        "# create empty list for dates\n",
        "dates = []\n",
        "\n",
        "# loop over lines and match dates and put in new list\n",
        "for line in lines:\n",
        "    match = re.search(r\"^[0-9]{4}\\.[0-9]{2}\\.[0-9]{2}\", line)\n",
        "    if match:\n",
        "        dates.append(match.group())\n",
        "\n",
        "# look at the resulting list\n",
        "for date in dates:\n",
        "    print(date)\n",
        "    news_lines = []\n",
        "\n",
        "# loop over lines and match dates\n",
        "for line in lines:\n",
        "    match = re.search(r\"^[0-9]{4}\\.[0-9]{2}\\.[0-9]{2}\", line)\n",
        "    if match:\n",
        "        news_lines.append(line[11:]) # add the substrings for lines that match\n",
        "        \n",
        "\n",
        "news_lines\n"
      ]
    },
    {
      "cell_type": "code",
      "execution_count": null,
      "metadata": {
        "id": "t5IfT7GmZ0nr"
      },
      "outputs": [],
      "source": [
        "data= json.loads(response.content)\n",
        "data"
      ]
    },
    {
      "cell_type": "code",
      "execution_count": null,
      "metadata": {
        "id": "bmyUdwp3Z0nr"
      },
      "outputs": [],
      "source": [
        "results = data['response']['results']\n",
        "results"
      ]
    },
    {
      "cell_type": "code",
      "execution_count": null,
      "metadata": {
        "id": "D-1ZM2dlZ0ns"
      },
      "outputs": [],
      "source": [
        "for result in results:\n",
        "    print(result['webTitle'])"
      ]
    },
    {
      "cell_type": "code",
      "execution_count": null,
      "metadata": {
        "id": "Udc7uAU4Z0ns"
      },
      "outputs": [],
      "source": [
        "titles= []\n",
        "for result in results:\n",
        "    titles.append(result['webTitle'])"
      ]
    },
    {
      "cell_type": "code",
      "execution_count": null,
      "metadata": {
        "id": "MjYhIC3HZ0ns"
      },
      "outputs": [],
      "source": [
        "## UK news Headlines title"
      ]
    },
    {
      "cell_type": "code",
      "execution_count": null,
      "metadata": {
        "id": "VHOirUttZ0nt"
      },
      "outputs": [],
      "source": [
        "titles"
      ]
    },
    {
      "cell_type": "code",
      "execution_count": null,
      "metadata": {
        "id": "klUbG__YZ0nt"
      },
      "outputs": [],
      "source": [
        "titles[0].split(\" \")"
      ]
    },
    {
      "cell_type": "code",
      "execution_count": null,
      "metadata": {
        "id": "UHI6ztV2Z0nt"
      },
      "outputs": [],
      "source": [
        "def getData(url):\n",
        "    content = requests.get(url+'?api-key='+key)\n",
        "    data = json.loads(content.content)\n",
        "    return data"
      ]
    },
    {
      "cell_type": "code",
      "execution_count": null,
      "metadata": {
        "id": "x9_gUJZ-Z0nt"
      },
      "outputs": [],
      "source": [
        "# explore editions\n",
        "editionsResponse = getData('http://content.guardianapis.com/editions')"
      ]
    },
    {
      "cell_type": "code",
      "execution_count": null,
      "metadata": {
        "id": "2C6n_GLqZ0nu"
      },
      "outputs": [],
      "source": [
        "results = editionsResponse['response']['results']\n",
        "results\n"
      ]
    },
    {
      "cell_type": "code",
      "execution_count": null,
      "metadata": {
        "id": "Ru6PhJcBZ0nu"
      },
      "outputs": [],
      "source": [
        "for result in results:\n",
        "    print(result['id'])\n",
        "    "
      ]
    },
    {
      "cell_type": "code",
      "execution_count": null,
      "metadata": {
        "id": "m_8e4HlNZ0nu"
      },
      "outputs": [],
      "source": [
        "# Analyse the data - ensure that you at least use the required technique\n",
        "baseUrl = 'https://content.guardianapis.com/world/2022/mar/01/china-mediate-ukraine-russia-war-key'\n",
        "searchString = \"news\"\n",
        "production_office = \"aus\"\n",
        "fromDate = \"2022-04-22\"\n",
        "url = baseUrl+'\"'+searchString+'\"'+'&production-office='+production_office+'&from-date='+fromDate+'&page-size=100''&api-key='+key\n",
        "print(url[:100])\n"
      ]
    },
    {
      "cell_type": "code",
      "execution_count": null,
      "metadata": {
        "id": "Jn8F6pkJZ0nv"
      },
      "outputs": [],
      "source": [
        "response\n",
        "\n",
        "\n",
        "\n"
      ]
    },
    {
      "cell_type": "code",
      "execution_count": null,
      "metadata": {
        "id": "HQcBaDRJZ0nv"
      },
      "outputs": [],
      "source": [
        "response.content\n"
      ]
    },
    {
      "cell_type": "code",
      "execution_count": null,
      "metadata": {
        "id": "RVBEiqHDZ0nv"
      },
      "outputs": [],
      "source": [
        "results = data['response']['results']\n",
        "results\n",
        "\n"
      ]
    },
    {
      "cell_type": "code",
      "execution_count": null,
      "metadata": {
        "id": "pHlxTsJ6Z0nw"
      },
      "outputs": [],
      "source": [
        "for result in results:\n",
        "    print(result['webTitle'])\n",
        "    \n",
        "    "
      ]
    },
    {
      "cell_type": "code",
      "execution_count": null,
      "metadata": {
        "id": "mLsQ1SouZ0nw"
      },
      "outputs": [],
      "source": [
        "title1= []\n",
        "for result in results:\n",
        "    title1.append(result['webTitle'])\n",
        "    "
      ]
    },
    {
      "cell_type": "code",
      "execution_count": null,
      "metadata": {
        "id": "uixUiTAPZ0nw"
      },
      "outputs": [],
      "source": [
        "title1\n"
      ]
    },
    {
      "cell_type": "markdown",
      "metadata": {
        "id": "XxJLNj9mZ0nw"
      },
      "source": [
        "### 2.4 Visualisation"
      ]
    },
    {
      "cell_type": "code",
      "execution_count": null,
      "metadata": {
        "id": "i6EdjcXwZ0nx"
      },
      "outputs": [],
      "source": [
        "## Uk visualisation of war headlines\n"
      ]
    },
    {
      "cell_type": "code",
      "execution_count": null,
      "metadata": {
        "id": "woj0svtxZ0nx"
      },
      "outputs": [],
      "source": [
        "plt.plot(titles,'g')\n",
        "plt.xlabel(\"Day\")\n",
        "plt.ylabel(\"United Kingdom Headlines\")"
      ]
    },
    {
      "cell_type": "code",
      "execution_count": null,
      "metadata": {
        "id": "nOjN9xiMZ0nx"
      },
      "outputs": [],
      "source": [
        "## Australia visualisation of war headlines"
      ]
    },
    {
      "cell_type": "code",
      "execution_count": null,
      "metadata": {
        "id": "t7peauAuZ0ny"
      },
      "outputs": [],
      "source": [
        "plt.plot(title1)\n",
        "plt.xlabel(\"Day\")\n",
        "plt.ylabel(\"Australia Headlines\")\n",
        "\n"
      ]
    },
    {
      "cell_type": "code",
      "execution_count": null,
      "metadata": {
        "id": "1ssWMlGhZ0ny"
      },
      "outputs": [],
      "source": [
        ""
      ]
    },
    {
      "cell_type": "markdown",
      "metadata": {
        "id": "28Xw_kVeZ0ny"
      },
      "source": [
        "### 2.5 Insight"
      ]
    },
    {
      "cell_type": "markdown",
      "metadata": {
        "id": "7-LVAJRwZ0ny"
      },
      "source": [
        "*## Your insights from the analysis. Ensure that you address the question ##*\n",
        "*## Similar news title appear for both United Kingdom and Australia during the war time period from 22-04-22."
      ]
    }
  ],
  "metadata": {
    "kernelspec": {
      "display_name": "Python 3 (ipykernel)",
      "language": "python",
      "name": "python3"
    },
    "language_info": {
      "codemirror_mode": {
        "name": "ipython",
        "version": 3
      },
      "file_extension": ".py",
      "mimetype": "text/x-python",
      "name": "python",
      "nbconvert_exporter": "python",
      "pygments_lexer": "ipython3",
      "version": "3.9.10"
    },
    "colab": {
      "name": "template-ifn619-assignment1-partb (1).ipynb",
      "provenance": [],
      "collapsed_sections": [
        "31sYGlPbZ0nW",
        "W15objc_Z0ni",
        "pBgu7saqZ0no",
        "C-ZILVVyZ0np",
        "T1jtet4JZ0np",
        "XxJLNj9mZ0nw",
        "28Xw_kVeZ0ny"
      ],
      "include_colab_link": true
    }
  },
  "nbformat": 4,
  "nbformat_minor": 0
}